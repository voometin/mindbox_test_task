{
 "cells": [
  {
   "cell_type": "code",
   "execution_count": 2,
   "metadata": {},
   "outputs": [],
   "source": [
    "import pandas as pd\n",
    "import implicit\n",
    "import numpy as np\n",
    "from scipy import sparse, stats\n",
    "import pickle\n",
    "import gc\n",
    "\n",
    "import datetime as dt\n",
    "import matplotlib\n",
    "import matplotlib.pyplot as plt\n",
    "from sklearn.model_selection import train_test_split, KFold\n",
    "from sklearn.preprocessing import MinMaxScaler, StandardScaler\n",
    "from sklearn.metrics import accuracy_score, roc_auc_score, average_precision_score, precision_recall_curve, auc\n",
    "\n",
    "import lightgbm as lgb\n",
    "from sklearn.linear_model import LogisticRegression\n",
    "\n",
    "import seaborn as sns\n",
    "import time\n",
    "import copy\n",
    "import os\n",
    "\n",
    "\n",
    "pd.options.display.max_columns = None\n",
    "%matplotlib inline\n",
    "\n",
    "params = {'axes.titlesize':'32',\n",
    "          'xtick.labelsize':'14',\n",
    "          'ytick.labelsize':'14'}\n",
    "matplotlib.rcParams.update(params)\n"
   ]
  },
  {
   "cell_type": "markdown",
   "metadata": {},
   "source": [
    "Решается задача товарных рекомендаций.\n",
    "\n",
    "- `purchases_train.csv` - история покупок в розничном магазине (с 21 октября 2003 года по 12 марта 2004 года)\n",
    "\n",
    "- `purchases_test.csv` - покупки за следующую неделю (с 13 по 19 марта 2004 года). В этой выборке для каждого пользователя исключены товары, которые он уже покупал за период обучающей выборки\n",
    "\n",
    "- `customers.csv` - пол клиентов\n",
    "\n",
    "В решении ниже\n",
    "- обучается модель матричного разложения AlternateLeastSquares\n",
    "- сравнивается с тестовыми данными\n",
    "- измеряется ее качество по метрике map@10\n",
    "- данные о поле клиентов не используются\n",
    "\n",
    "Улучшите решение с помощью информацию о поле клиентов"
   ]
  },
  {
   "cell_type": "code",
   "execution_count": 3,
   "metadata": {},
   "outputs": [
    {
     "data": {
      "text/html": [
       "<div>\n",
       "<style scoped>\n",
       "    .dataframe tbody tr th:only-of-type {\n",
       "        vertical-align: middle;\n",
       "    }\n",
       "\n",
       "    .dataframe tbody tr th {\n",
       "        vertical-align: top;\n",
       "    }\n",
       "\n",
       "    .dataframe thead th {\n",
       "        text-align: right;\n",
       "    }\n",
       "</style>\n",
       "<table border=\"1\" class=\"dataframe\">\n",
       "  <thead>\n",
       "    <tr style=\"text-align: right;\">\n",
       "      <th></th>\n",
       "      <th>customer_id</th>\n",
       "      <th>product_id</th>\n",
       "      <th>datetime</th>\n",
       "    </tr>\n",
       "  </thead>\n",
       "  <tbody>\n",
       "    <tr>\n",
       "      <th>0</th>\n",
       "      <td>8698595</td>\n",
       "      <td>12530</td>\n",
       "      <td>2004-03-10 22:18:43.497459200</td>\n",
       "    </tr>\n",
       "    <tr>\n",
       "      <th>1</th>\n",
       "      <td>13271885</td>\n",
       "      <td>7541</td>\n",
       "      <td>2004-03-06 02:24:43.209763200</td>\n",
       "    </tr>\n",
       "    <tr>\n",
       "      <th>2</th>\n",
       "      <td>16852746</td>\n",
       "      <td>13134</td>\n",
       "      <td>2004-03-10 01:03:09.598614400</td>\n",
       "    </tr>\n",
       "    <tr>\n",
       "      <th>3</th>\n",
       "      <td>16852746</td>\n",
       "      <td>6572</td>\n",
       "      <td>2004-03-04 16:45:16.522566400</td>\n",
       "    </tr>\n",
       "    <tr>\n",
       "      <th>4</th>\n",
       "      <td>14619070</td>\n",
       "      <td>4659</td>\n",
       "      <td>2004-03-12 13:29:35.011481600</td>\n",
       "    </tr>\n",
       "  </tbody>\n",
       "</table>\n",
       "</div>"
      ],
      "text/plain": [
       "   customer_id  product_id                       datetime\n",
       "0      8698595       12530  2004-03-10 22:18:43.497459200\n",
       "1     13271885        7541  2004-03-06 02:24:43.209763200\n",
       "2     16852746       13134  2004-03-10 01:03:09.598614400\n",
       "3     16852746        6572  2004-03-04 16:45:16.522566400\n",
       "4     14619070        4659  2004-03-12 13:29:35.011481600"
      ]
     },
     "execution_count": 3,
     "metadata": {},
     "output_type": "execute_result"
    }
   ],
   "source": [
    "purchases_train = pd.read_csv('purchases_train.csv')\n",
    "purchases_train.head()"
   ]
  },
  {
   "cell_type": "markdown",
   "metadata": {},
   "source": [
    "Обучаем модель AlternateLeastSquares (Обучить baseline с числом факторов = 64 не получилось - переполнение по памяти, поэтому была обучена модель с числом факторов = 32)"
   ]
  },
  {
   "cell_type": "code",
   "execution_count": 4,
   "metadata": {},
   "outputs": [],
   "source": [
    "class Als():\n",
    "    def __init__(self, train, cond=None):\n",
    "        if cond is None:\n",
    "            cond = train.index\n",
    "            \n",
    "        self.user_items = sparse.coo_matrix(\n",
    "            (\n",
    "                np.ones(train.loc[cond].customer_id.size, dtype=np.float32),\n",
    "                (\n",
    "                    train.loc[cond].customer_id,\n",
    "                    train.loc[cond].product_id\n",
    "                )\n",
    "            )\n",
    "        ).tocsr()\n",
    "        sparsity = 100 * (1 - train.loc[cond].drop_duplicates(['customer_id', 'product_id']).shape[0] / (train.loc[cond].customer_id.unique().shape[0] * train.loc[cond].product_id.unique().shape[0]))\n",
    "        print('sparsity:', sparsity)\n",
    "        self.item_users = self.user_items.T.tocsr()\n",
    "        self.model = None\n",
    "    \n",
    "    def fit(self, params={'factors': 32, 'regularization': 0.1, 'iterations': 100}):\n",
    "        self.model = implicit.als.AlternatingLeastSquares(**params)\n",
    "        np.random.seed(42)\n",
    "        print('Fit the model...')\n",
    "        self.model.fit(item_users=self.item_users)\n",
    "        \n",
    "    def save_model(self, filename):\n",
    "        print('Saving model...')\n",
    "        if self.model is None:\n",
    "            print('model is not defined and fitted')\n",
    "            return\n",
    "        with open(filename, 'wb') as f:\n",
    "            pickle.dump(self.model, f)\n",
    "        \n",
    "    def load_model(self, filename):\n",
    "        print('Loading model...')\n",
    "        with open(filename, 'rb') as f:\n",
    "            self.model = pickle.load(f)\n",
    "    \n",
    "    def recommend(self, user_id, k=10):\n",
    "        if self.model is None:\n",
    "            print('model is not defined and fitted')\n",
    "            return\n",
    "    \n",
    "        return self.model.recommend(userid=user_id, user_items=self.user_items, N=k)"
   ]
  },
  {
   "cell_type": "code",
   "execution_count": 6,
   "metadata": {},
   "outputs": [
    {
     "name": "stdout",
     "output_type": "stream",
     "text": [
      "sparsity: 99.82308942476247\n"
     ]
    }
   ],
   "source": [
    "als = Als(purchases_train)"
   ]
  },
  {
   "cell_type": "code",
   "execution_count": 7,
   "metadata": {},
   "outputs": [
    {
     "name": "stderr",
     "output_type": "stream",
     "text": [
      "WARNING:root:OpenBLAS detected. Its highly recommend to set the environment variable 'export OPENBLAS_NUM_THREADS=1' to disable its internal multithreading\n"
     ]
    },
    {
     "name": "stdout",
     "output_type": "stream",
     "text": [
      "Fit the model...\n"
     ]
    },
    {
     "data": {
      "application/vnd.jupyter.widget-view+json": {
       "model_id": "045e0533731e472dbc0aee12f1346192",
       "version_major": 2,
       "version_minor": 0
      },
      "text/plain": [
       "HBox(children=(IntProgress(value=0), HTML(value='')))"
      ]
     },
     "metadata": {},
     "output_type": "display_data"
    },
    {
     "name": "stdout",
     "output_type": "stream",
     "text": [
      "\n"
     ]
    }
   ],
   "source": [
    "als.fit()"
   ]
  },
  {
   "cell_type": "code",
   "execution_count": null,
   "metadata": {},
   "outputs": [],
   "source": [
    "als.save_model('base_model.pickle')"
   ]
  },
  {
   "cell_type": "code",
   "execution_count": 7,
   "metadata": {},
   "outputs": [
    {
     "name": "stdout",
     "output_type": "stream",
     "text": [
      "Loading model...\n"
     ]
    }
   ],
   "source": [
    "als.load_model('base_model.pickle')"
   ]
  },
  {
   "cell_type": "markdown",
   "metadata": {},
   "source": [
    "purchases_test.csv содержит данные о покупках с 13 марта 2004 по 20 марта 2004 - то есть неделя следующая за обучающей выборкой\n",
    "\n",
    "для каждого пользователя исключены те товары, которые он покупал в обучающей выборке"
   ]
  },
  {
   "cell_type": "code",
   "execution_count": 5,
   "metadata": {
    "scrolled": true
   },
   "outputs": [
    {
     "data": {
      "text/html": [
       "<div>\n",
       "<style scoped>\n",
       "    .dataframe tbody tr th:only-of-type {\n",
       "        vertical-align: middle;\n",
       "    }\n",
       "\n",
       "    .dataframe tbody tr th {\n",
       "        vertical-align: top;\n",
       "    }\n",
       "\n",
       "    .dataframe thead th {\n",
       "        text-align: right;\n",
       "    }\n",
       "</style>\n",
       "<table border=\"1\" class=\"dataframe\">\n",
       "  <thead>\n",
       "    <tr style=\"text-align: right;\">\n",
       "      <th></th>\n",
       "      <th>customer_id</th>\n",
       "      <th>product_id</th>\n",
       "      <th>datetime</th>\n",
       "    </tr>\n",
       "  </thead>\n",
       "  <tbody>\n",
       "    <tr>\n",
       "      <th>0</th>\n",
       "      <td>1021292</td>\n",
       "      <td>6197</td>\n",
       "      <td>2004-03-18 13:35:19.145152000</td>\n",
       "    </tr>\n",
       "    <tr>\n",
       "      <th>1</th>\n",
       "      <td>11379978</td>\n",
       "      <td>4659</td>\n",
       "      <td>2004-03-19 18:51:31.887936000</td>\n",
       "    </tr>\n",
       "    <tr>\n",
       "      <th>2</th>\n",
       "      <td>13271885</td>\n",
       "      <td>5659</td>\n",
       "      <td>2004-03-14 05:47:21.544166400</td>\n",
       "    </tr>\n",
       "    <tr>\n",
       "      <th>3</th>\n",
       "      <td>13271885</td>\n",
       "      <td>1015</td>\n",
       "      <td>2004-03-15 14:41:19.702089601</td>\n",
       "    </tr>\n",
       "    <tr>\n",
       "      <th>4</th>\n",
       "      <td>12315337</td>\n",
       "      <td>12072</td>\n",
       "      <td>2004-03-19 10:39:17.148105600</td>\n",
       "    </tr>\n",
       "  </tbody>\n",
       "</table>\n",
       "</div>"
      ],
      "text/plain": [
       "   customer_id  product_id                       datetime\n",
       "0      1021292        6197  2004-03-18 13:35:19.145152000\n",
       "1     11379978        4659  2004-03-19 18:51:31.887936000\n",
       "2     13271885        5659  2004-03-14 05:47:21.544166400\n",
       "3     13271885        1015  2004-03-15 14:41:19.702089601\n",
       "4     12315337       12072  2004-03-19 10:39:17.148105600"
      ]
     },
     "metadata": {},
     "output_type": "display_data"
    }
   ],
   "source": [
    "purchases_test = pd.read_csv('purchases_test.csv')\n",
    "display(\n",
    "    purchases_test.head(),\n",
    ")"
   ]
  },
  {
   "cell_type": "markdown",
   "metadata": {},
   "source": [
    "Измеряем качество рекомендаций с помощью метрики map@10"
   ]
  },
  {
   "cell_type": "code",
   "execution_count": 6,
   "metadata": {},
   "outputs": [
    {
     "data": {
      "text/html": [
       "<div>\n",
       "<style scoped>\n",
       "    .dataframe tbody tr th:only-of-type {\n",
       "        vertical-align: middle;\n",
       "    }\n",
       "\n",
       "    .dataframe tbody tr th {\n",
       "        vertical-align: top;\n",
       "    }\n",
       "\n",
       "    .dataframe thead th {\n",
       "        text-align: right;\n",
       "    }\n",
       "</style>\n",
       "<table border=\"1\" class=\"dataframe\">\n",
       "  <thead>\n",
       "    <tr style=\"text-align: right;\">\n",
       "      <th></th>\n",
       "      <th>customer_id</th>\n",
       "      <th>product_ids</th>\n",
       "    </tr>\n",
       "  </thead>\n",
       "  <tbody>\n",
       "    <tr>\n",
       "      <th>0</th>\n",
       "      <td>107</td>\n",
       "      <td>[5868]</td>\n",
       "    </tr>\n",
       "    <tr>\n",
       "      <th>1</th>\n",
       "      <td>453</td>\n",
       "      <td>[11854]</td>\n",
       "    </tr>\n",
       "    <tr>\n",
       "      <th>2</th>\n",
       "      <td>1011</td>\n",
       "      <td>[10609, 7110]</td>\n",
       "    </tr>\n",
       "    <tr>\n",
       "      <th>3</th>\n",
       "      <td>1135</td>\n",
       "      <td>[8994]</td>\n",
       "    </tr>\n",
       "    <tr>\n",
       "      <th>4</th>\n",
       "      <td>2947</td>\n",
       "      <td>[5868]</td>\n",
       "    </tr>\n",
       "  </tbody>\n",
       "</table>\n",
       "</div>"
      ],
      "text/plain": [
       "   customer_id    product_ids\n",
       "0          107         [5868]\n",
       "1          453        [11854]\n",
       "2         1011  [10609, 7110]\n",
       "3         1135         [8994]\n",
       "4         2947         [5868]"
      ]
     },
     "execution_count": 6,
     "metadata": {},
     "output_type": "execute_result"
    }
   ],
   "source": [
    "relevant = purchases_test.groupby('customer_id')['product_id'].apply(lambda s: s.values).reset_index()\n",
    "relevant.rename(columns={'product_id': 'product_ids'}, inplace=True)\n",
    "relevant.head()"
   ]
  },
  {
   "cell_type": "code",
   "execution_count": 7,
   "metadata": {},
   "outputs": [
    {
     "ename": "NameError",
     "evalue": "name 'als' is not defined",
     "output_type": "error",
     "traceback": [
      "\u001b[1;31m---------------------------------------------------------------------------\u001b[0m",
      "\u001b[1;31mNameError\u001b[0m                                 Traceback (most recent call last)",
      "\u001b[1;32m<ipython-input-7-e85b257aea1c>\u001b[0m in \u001b[0;36m<module>\u001b[1;34m()\u001b[0m\n\u001b[0;32m      1\u001b[0m \u001b[0mrecommendations\u001b[0m \u001b[1;33m=\u001b[0m \u001b[1;33m[\u001b[0m\u001b[1;33m]\u001b[0m\u001b[1;33m\u001b[0m\u001b[0m\n\u001b[0;32m      2\u001b[0m \u001b[1;32mfor\u001b[0m \u001b[0muser_id\u001b[0m \u001b[1;32min\u001b[0m \u001b[0mrelevant\u001b[0m\u001b[1;33m[\u001b[0m\u001b[1;34m'customer_id'\u001b[0m\u001b[1;33m]\u001b[0m\u001b[1;33m:\u001b[0m\u001b[1;33m\u001b[0m\u001b[0m\n\u001b[1;32m----> 3\u001b[1;33m     \u001b[0mrecommendations\u001b[0m\u001b[1;33m.\u001b[0m\u001b[0mappend\u001b[0m\u001b[1;33m(\u001b[0m\u001b[1;33m[\u001b[0m\u001b[0mx\u001b[0m\u001b[1;33m[\u001b[0m\u001b[1;36m0\u001b[0m\u001b[1;33m]\u001b[0m \u001b[1;32mfor\u001b[0m \u001b[0mx\u001b[0m \u001b[1;32min\u001b[0m \u001b[0mals\u001b[0m\u001b[1;33m.\u001b[0m\u001b[0mrecommend\u001b[0m\u001b[1;33m(\u001b[0m\u001b[0muser_id\u001b[0m\u001b[1;33m)\u001b[0m\u001b[1;33m]\u001b[0m\u001b[1;33m)\u001b[0m\u001b[1;33m\u001b[0m\u001b[0m\n\u001b[0m",
      "\u001b[1;31mNameError\u001b[0m: name 'als' is not defined"
     ]
    }
   ],
   "source": [
    "recommendations = []\n",
    "for user_id in relevant['customer_id']:\n",
    "    recommendations.append([x[0] for x in als.recommend(user_id)])"
   ]
  },
  {
   "cell_type": "code",
   "execution_count": 8,
   "metadata": {},
   "outputs": [],
   "source": [
    "def apk(actual, predicted, k=10):\n",
    "    \"\"\"\n",
    "    Computes the average precision at k.\n",
    "    This function computes the average prescision at k between two lists of\n",
    "    items.\n",
    "    Parameters\n",
    "    ----------\n",
    "    actual : list\n",
    "             A list of elements that are to be predicted (order doesn't matter)\n",
    "    predicted : list\n",
    "                A list of predicted elements (order does matter)\n",
    "    k : int, optional\n",
    "        The maximum number of predicted elements\n",
    "    Returns\n",
    "    -------\n",
    "    score : double\n",
    "            The average precision at k over the input lists\n",
    "    \"\"\"\n",
    "    if len(predicted)>k:\n",
    "        predicted = predicted[:k]\n",
    "\n",
    "    score = 0.0\n",
    "    num_hits = 0.0\n",
    "\n",
    "    for i,p in enumerate(predicted):\n",
    "        if p in actual and p not in predicted[:i]:\n",
    "            num_hits += 1.0\n",
    "            score += num_hits / (i+1.0)\n",
    "\n",
    "    if len(actual) == 0:\n",
    "        return 0.0\n",
    "\n",
    "    return score / min(len(actual), k)\n",
    "\n",
    "def mapk(actual, predicted, k=10):\n",
    "    \"\"\"\n",
    "    Computes the mean average precision at k.\n",
    "    This function computes the mean average prescision at k between two lists\n",
    "    of lists of items.\n",
    "    Parameters\n",
    "    ----------\n",
    "    actual : list\n",
    "             A list of lists of elements that are to be predicted \n",
    "             (order doesn't matter in the lists)\n",
    "    predicted : list\n",
    "                A list of lists of predicted elements\n",
    "                (order matters in the lists)\n",
    "    k : int, optional\n",
    "        The maximum number of predicted elements\n",
    "    Returns\n",
    "    -------\n",
    "    score : double\n",
    "            The mean average precision at k over the input lists\n",
    "    \"\"\"\n",
    "    return np.mean([apk(a,p,k) for a,p in zip(actual, predicted)])"
   ]
  },
  {
   "cell_type": "code",
   "execution_count": 11,
   "metadata": {},
   "outputs": [
    {
     "data": {
      "text/plain": [
       "0.1041872886128091"
      ]
     },
     "execution_count": 11,
     "metadata": {},
     "output_type": "execute_result"
    }
   ],
   "source": [
    "mapk(relevant['product_ids'], recommendations, k=10) # baseline ALS с 64 факторами"
   ]
  },
  {
   "cell_type": "code",
   "execution_count": 10,
   "metadata": {},
   "outputs": [
    {
     "data": {
      "text/plain": [
       "0.15380140961270836"
      ]
     },
     "execution_count": 10,
     "metadata": {},
     "output_type": "execute_result"
    }
   ],
   "source": [
    "mapk(relevant['product_ids'], recommendations, k=10) # baseline ALS с 32 факторами"
   ]
  },
  {
   "cell_type": "markdown",
   "metadata": {},
   "source": [
    "Задание: используйте пол клиентов для улучшения модели"
   ]
  },
  {
   "cell_type": "markdown",
   "metadata": {},
   "source": [
    "Загрузка данных, исследование, предобработка данных и объединение таблицы customers с purchases_train, purchases_test, relevant"
   ]
  },
  {
   "cell_type": "code",
   "execution_count": 9,
   "metadata": {},
   "outputs": [
    {
     "data": {
      "text/html": [
       "<div>\n",
       "<style scoped>\n",
       "    .dataframe tbody tr th:only-of-type {\n",
       "        vertical-align: middle;\n",
       "    }\n",
       "\n",
       "    .dataframe tbody tr th {\n",
       "        vertical-align: top;\n",
       "    }\n",
       "\n",
       "    .dataframe thead th {\n",
       "        text-align: right;\n",
       "    }\n",
       "</style>\n",
       "<table border=\"1\" class=\"dataframe\">\n",
       "  <thead>\n",
       "    <tr style=\"text-align: right;\">\n",
       "      <th></th>\n",
       "      <th>customer_id</th>\n",
       "      <th>sex</th>\n",
       "    </tr>\n",
       "  </thead>\n",
       "  <tbody>\n",
       "    <tr>\n",
       "      <th>0</th>\n",
       "      <td>14386819</td>\n",
       "      <td>Female</td>\n",
       "    </tr>\n",
       "    <tr>\n",
       "      <th>1</th>\n",
       "      <td>1481405</td>\n",
       "      <td>NaN</td>\n",
       "    </tr>\n",
       "    <tr>\n",
       "      <th>2</th>\n",
       "      <td>16745074</td>\n",
       "      <td>NaN</td>\n",
       "    </tr>\n",
       "    <tr>\n",
       "      <th>3</th>\n",
       "      <td>10325906</td>\n",
       "      <td>NaN</td>\n",
       "    </tr>\n",
       "    <tr>\n",
       "      <th>4</th>\n",
       "      <td>11167384</td>\n",
       "      <td>NaN</td>\n",
       "    </tr>\n",
       "  </tbody>\n",
       "</table>\n",
       "</div>"
      ],
      "text/plain": [
       "   customer_id     sex\n",
       "0     14386819  Female\n",
       "1      1481405     NaN\n",
       "2     16745074     NaN\n",
       "3     10325906     NaN\n",
       "4     11167384     NaN"
      ]
     },
     "execution_count": 9,
     "metadata": {},
     "output_type": "execute_result"
    }
   ],
   "source": [
    "customers = pd.read_csv('customers.csv')\n",
    "customers.head()"
   ]
  },
  {
   "cell_type": "code",
   "execution_count": 10,
   "metadata": {},
   "outputs": [
    {
     "name": "stdout",
     "output_type": "stream",
     "text": [
      "sex value_counts() Female    25342\n",
      "Male       9134\n",
      "Name: sex, dtype: int64\n",
      "shape: (123565, 2)\n",
      "sex-unknown values ratio: 0.7209889531825355\n"
     ]
    }
   ],
   "source": [
    "print('sex value_counts()', customers['sex'].value_counts())\n",
    "print('shape:', customers.shape)\n",
    "print('sex-unknown values ratio:', customers['sex'].isna().sum()/customers.shape[0])"
   ]
  },
  {
   "cell_type": "code",
   "execution_count": 11,
   "metadata": {},
   "outputs": [],
   "source": [
    "customers['sex'].fillna(0.5, inplace=True)\n",
    "customers['sex'].replace({'Female': 1, 'Male': 0}, inplace=True)"
   ]
  },
  {
   "cell_type": "code",
   "execution_count": 12,
   "metadata": {},
   "outputs": [],
   "source": [
    "purchases_train = purchases_train.merge(customers, on='customer_id')\n",
    "purchases_train.datetime = pd.to_datetime(purchases_train.datetime)"
   ]
  },
  {
   "cell_type": "code",
   "execution_count": 13,
   "metadata": {},
   "outputs": [
    {
     "data": {
      "text/html": [
       "<div>\n",
       "<style scoped>\n",
       "    .dataframe tbody tr th:only-of-type {\n",
       "        vertical-align: middle;\n",
       "    }\n",
       "\n",
       "    .dataframe tbody tr th {\n",
       "        vertical-align: top;\n",
       "    }\n",
       "\n",
       "    .dataframe thead th {\n",
       "        text-align: right;\n",
       "    }\n",
       "</style>\n",
       "<table border=\"1\" class=\"dataframe\">\n",
       "  <thead>\n",
       "    <tr style=\"text-align: right;\">\n",
       "      <th></th>\n",
       "      <th>customer_id</th>\n",
       "      <th>product_id</th>\n",
       "      <th>datetime</th>\n",
       "      <th>sex</th>\n",
       "    </tr>\n",
       "  </thead>\n",
       "  <tbody>\n",
       "    <tr>\n",
       "      <th>0</th>\n",
       "      <td>1021292</td>\n",
       "      <td>6197</td>\n",
       "      <td>2004-03-18 13:35:19.145152000</td>\n",
       "      <td>1.0</td>\n",
       "    </tr>\n",
       "    <tr>\n",
       "      <th>1</th>\n",
       "      <td>1021292</td>\n",
       "      <td>7185</td>\n",
       "      <td>2004-03-13 20:14:19.283654400</td>\n",
       "      <td>1.0</td>\n",
       "    </tr>\n",
       "    <tr>\n",
       "      <th>2</th>\n",
       "      <td>1021292</td>\n",
       "      <td>11854</td>\n",
       "      <td>2004-03-15 02:04:36.448988800</td>\n",
       "      <td>1.0</td>\n",
       "    </tr>\n",
       "    <tr>\n",
       "      <th>3</th>\n",
       "      <td>11379978</td>\n",
       "      <td>4659</td>\n",
       "      <td>2004-03-19 18:51:31.887936000</td>\n",
       "      <td>1.0</td>\n",
       "    </tr>\n",
       "    <tr>\n",
       "      <th>4</th>\n",
       "      <td>11379978</td>\n",
       "      <td>3963</td>\n",
       "      <td>2004-03-13 19:00:50.436307200</td>\n",
       "      <td>1.0</td>\n",
       "    </tr>\n",
       "  </tbody>\n",
       "</table>\n",
       "</div>"
      ],
      "text/plain": [
       "   customer_id  product_id                       datetime  sex\n",
       "0      1021292        6197  2004-03-18 13:35:19.145152000  1.0\n",
       "1      1021292        7185  2004-03-13 20:14:19.283654400  1.0\n",
       "2      1021292       11854  2004-03-15 02:04:36.448988800  1.0\n",
       "3     11379978        4659  2004-03-19 18:51:31.887936000  1.0\n",
       "4     11379978        3963  2004-03-13 19:00:50.436307200  1.0"
      ]
     },
     "execution_count": 13,
     "metadata": {},
     "output_type": "execute_result"
    }
   ],
   "source": [
    "purchases_test = purchases_test.merge(customers, on='customer_id')\n",
    "purchases_test.head()"
   ]
  },
  {
   "cell_type": "code",
   "execution_count": 14,
   "metadata": {},
   "outputs": [
    {
     "data": {
      "text/html": [
       "<div>\n",
       "<style scoped>\n",
       "    .dataframe tbody tr th:only-of-type {\n",
       "        vertical-align: middle;\n",
       "    }\n",
       "\n",
       "    .dataframe tbody tr th {\n",
       "        vertical-align: top;\n",
       "    }\n",
       "\n",
       "    .dataframe thead th {\n",
       "        text-align: right;\n",
       "    }\n",
       "</style>\n",
       "<table border=\"1\" class=\"dataframe\">\n",
       "  <thead>\n",
       "    <tr style=\"text-align: right;\">\n",
       "      <th></th>\n",
       "      <th>customer_id</th>\n",
       "      <th>product_ids</th>\n",
       "      <th>sex</th>\n",
       "    </tr>\n",
       "  </thead>\n",
       "  <tbody>\n",
       "    <tr>\n",
       "      <th>0</th>\n",
       "      <td>107</td>\n",
       "      <td>[5868]</td>\n",
       "      <td>0.5</td>\n",
       "    </tr>\n",
       "    <tr>\n",
       "      <th>1</th>\n",
       "      <td>453</td>\n",
       "      <td>[11854]</td>\n",
       "      <td>0.0</td>\n",
       "    </tr>\n",
       "    <tr>\n",
       "      <th>2</th>\n",
       "      <td>1011</td>\n",
       "      <td>[10609, 7110]</td>\n",
       "      <td>1.0</td>\n",
       "    </tr>\n",
       "    <tr>\n",
       "      <th>3</th>\n",
       "      <td>1135</td>\n",
       "      <td>[8994]</td>\n",
       "      <td>1.0</td>\n",
       "    </tr>\n",
       "    <tr>\n",
       "      <th>4</th>\n",
       "      <td>2947</td>\n",
       "      <td>[5868]</td>\n",
       "      <td>1.0</td>\n",
       "    </tr>\n",
       "  </tbody>\n",
       "</table>\n",
       "</div>"
      ],
      "text/plain": [
       "   customer_id    product_ids  sex\n",
       "0          107         [5868]  0.5\n",
       "1          453        [11854]  0.0\n",
       "2         1011  [10609, 7110]  1.0\n",
       "3         1135         [8994]  1.0\n",
       "4         2947         [5868]  1.0"
      ]
     },
     "execution_count": 14,
     "metadata": {},
     "output_type": "execute_result"
    }
   ],
   "source": [
    "relevant = relevant.merge(customers, on='customer_id')\n",
    "relevant.head()"
   ]
  },
  {
   "cell_type": "code",
   "execution_count": 15,
   "metadata": {},
   "outputs": [
    {
     "data": {
      "text/plain": [
       "1.0    0.451525\n",
       "0.5    0.400559\n",
       "0.0    0.147916\n",
       "Name: sex, dtype: float64"
      ]
     },
     "execution_count": 15,
     "metadata": {},
     "output_type": "execute_result"
    }
   ],
   "source": [
    "purchases_train['sex'].value_counts(normalize=True)"
   ]
  },
  {
   "cell_type": "code",
   "execution_count": 16,
   "metadata": {},
   "outputs": [
    {
     "data": {
      "text/plain": [
       "0.7532433650356948"
      ]
     },
     "execution_count": 16,
     "metadata": {},
     "output_type": "execute_result"
    }
   ],
   "source": [
    "purchases_train[purchases_train['sex'] != 0.5].sex.mean()"
   ]
  },
  {
   "cell_type": "markdown",
   "metadata": {},
   "source": [
    "# Часть 1. Для мужской и женской половины кастомеров обучить по отдельной als модели, а для кастомеров, чем пол неизвестен использовать бейзлайн модель."
   ]
  },
  {
   "cell_type": "markdown",
   "metadata": {},
   "source": [
    "## Als model only on MALE info (no female or gender-unknown implicit ratings)"
   ]
  },
  {
   "cell_type": "code",
   "execution_count": 11,
   "metadata": {},
   "outputs": [
    {
     "name": "stdout",
     "output_type": "stream",
     "text": [
      "sparsity: 99.62795264315548\n"
     ]
    }
   ],
   "source": [
    "als_male = Als(purchases_train, purchases_train.sex == 0)"
   ]
  },
  {
   "cell_type": "code",
   "execution_count": 6,
   "metadata": {},
   "outputs": [
    {
     "name": "stderr",
     "output_type": "stream",
     "text": [
      "GPU training requires factor size to be a multiple of 32. Increasing factors from 16 to 32.\n",
      "WARNING:root:OpenBLAS detected. Its highly recommend to set the environment variable 'export OPENBLAS_NUM_THREADS=1' to disable its internal multithreading\n"
     ]
    },
    {
     "name": "stdout",
     "output_type": "stream",
     "text": [
      "Fit the model...\n"
     ]
    },
    {
     "data": {
      "application/vnd.jupyter.widget-view+json": {
       "model_id": "53bf6650ffaa466792e2b192a92d6d58",
       "version_major": 2,
       "version_minor": 0
      },
      "text/plain": [
       "HBox(children=(IntProgress(value=0), HTML(value='')))"
      ]
     },
     "metadata": {},
     "output_type": "display_data"
    },
    {
     "name": "stdout",
     "output_type": "stream",
     "text": [
      "\n"
     ]
    }
   ],
   "source": [
    "als_male.fit()"
   ]
  },
  {
   "cell_type": "code",
   "execution_count": null,
   "metadata": {},
   "outputs": [],
   "source": [
    "als_male.save_model('male_model.pickle')"
   ]
  },
  {
   "cell_type": "code",
   "execution_count": 12,
   "metadata": {},
   "outputs": [
    {
     "name": "stdout",
     "output_type": "stream",
     "text": [
      "Loading model...\n"
     ]
    }
   ],
   "source": [
    "als_male.load_model('male_model.pickle')"
   ]
  },
  {
   "cell_type": "markdown",
   "metadata": {},
   "source": [
    "## Als model only on FEMALE info (no male or gender-unknown implicit ratings)"
   ]
  },
  {
   "cell_type": "code",
   "execution_count": 13,
   "metadata": {},
   "outputs": [
    {
     "name": "stdout",
     "output_type": "stream",
     "text": [
      "sparsity: 99.61443374771085\n"
     ]
    }
   ],
   "source": [
    "als_female = Als(purchases_train, purchases_train.sex == 1)"
   ]
  },
  {
   "cell_type": "code",
   "execution_count": 6,
   "metadata": {},
   "outputs": [
    {
     "name": "stderr",
     "output_type": "stream",
     "text": [
      "GPU training requires factor size to be a multiple of 32. Increasing factors from 16 to 32.\n",
      "WARNING:root:OpenBLAS detected. Its highly recommend to set the environment variable 'export OPENBLAS_NUM_THREADS=1' to disable its internal multithreading\n"
     ]
    },
    {
     "name": "stdout",
     "output_type": "stream",
     "text": [
      "Fit the model...\n"
     ]
    },
    {
     "data": {
      "application/vnd.jupyter.widget-view+json": {
       "model_id": "53bf6650ffaa466792e2b192a92d6d58",
       "version_major": 2,
       "version_minor": 0
      },
      "text/plain": [
       "HBox(children=(IntProgress(value=0), HTML(value='')))"
      ]
     },
     "metadata": {},
     "output_type": "display_data"
    },
    {
     "name": "stdout",
     "output_type": "stream",
     "text": [
      "\n"
     ]
    }
   ],
   "source": [
    "als_female.fit()"
   ]
  },
  {
   "cell_type": "code",
   "execution_count": null,
   "metadata": {},
   "outputs": [],
   "source": [
    "als_female.save_model('female_model.pickle')"
   ]
  },
  {
   "cell_type": "code",
   "execution_count": 14,
   "metadata": {},
   "outputs": [
    {
     "name": "stdout",
     "output_type": "stream",
     "text": [
      "Loading model...\n"
     ]
    }
   ],
   "source": [
    "als_female.load_model('female_model.pickle')"
   ]
  },
  {
   "cell_type": "code",
   "execution_count": 13,
   "metadata": {
    "scrolled": true
   },
   "outputs": [
    {
     "data": {
      "text/html": [
       "<div>\n",
       "<style scoped>\n",
       "    .dataframe tbody tr th:only-of-type {\n",
       "        vertical-align: middle;\n",
       "    }\n",
       "\n",
       "    .dataframe tbody tr th {\n",
       "        vertical-align: top;\n",
       "    }\n",
       "\n",
       "    .dataframe thead th {\n",
       "        text-align: right;\n",
       "    }\n",
       "</style>\n",
       "<table border=\"1\" class=\"dataframe\">\n",
       "  <thead>\n",
       "    <tr style=\"text-align: right;\">\n",
       "      <th></th>\n",
       "      <th>customer_id</th>\n",
       "      <th>product_id</th>\n",
       "      <th>datetime</th>\n",
       "    </tr>\n",
       "  </thead>\n",
       "  <tbody>\n",
       "    <tr>\n",
       "      <th>0</th>\n",
       "      <td>1021292</td>\n",
       "      <td>6197</td>\n",
       "      <td>2004-03-18 13:35:19.145152000</td>\n",
       "    </tr>\n",
       "    <tr>\n",
       "      <th>1</th>\n",
       "      <td>11379978</td>\n",
       "      <td>4659</td>\n",
       "      <td>2004-03-19 18:51:31.887936000</td>\n",
       "    </tr>\n",
       "    <tr>\n",
       "      <th>2</th>\n",
       "      <td>13271885</td>\n",
       "      <td>5659</td>\n",
       "      <td>2004-03-14 05:47:21.544166400</td>\n",
       "    </tr>\n",
       "    <tr>\n",
       "      <th>3</th>\n",
       "      <td>13271885</td>\n",
       "      <td>1015</td>\n",
       "      <td>2004-03-15 14:41:19.702089601</td>\n",
       "    </tr>\n",
       "    <tr>\n",
       "      <th>4</th>\n",
       "      <td>12315337</td>\n",
       "      <td>12072</td>\n",
       "      <td>2004-03-19 10:39:17.148105600</td>\n",
       "    </tr>\n",
       "  </tbody>\n",
       "</table>\n",
       "</div>"
      ],
      "text/plain": [
       "   customer_id  product_id                       datetime\n",
       "0      1021292        6197  2004-03-18 13:35:19.145152000\n",
       "1     11379978        4659  2004-03-19 18:51:31.887936000\n",
       "2     13271885        5659  2004-03-14 05:47:21.544166400\n",
       "3     13271885        1015  2004-03-15 14:41:19.702089601\n",
       "4     12315337       12072  2004-03-19 10:39:17.148105600"
      ]
     },
     "execution_count": 13,
     "metadata": {},
     "output_type": "execute_result"
    }
   ],
   "source": [
    "purchases_test = pd.read_csv('purchases_test.csv')\n",
    "purchases_test.head()"
   ]
  },
  {
   "cell_type": "code",
   "execution_count": 14,
   "metadata": {},
   "outputs": [
    {
     "data": {
      "text/html": [
       "<div>\n",
       "<style scoped>\n",
       "    .dataframe tbody tr th:only-of-type {\n",
       "        vertical-align: middle;\n",
       "    }\n",
       "\n",
       "    .dataframe tbody tr th {\n",
       "        vertical-align: top;\n",
       "    }\n",
       "\n",
       "    .dataframe thead th {\n",
       "        text-align: right;\n",
       "    }\n",
       "</style>\n",
       "<table border=\"1\" class=\"dataframe\">\n",
       "  <thead>\n",
       "    <tr style=\"text-align: right;\">\n",
       "      <th></th>\n",
       "      <th>customer_id</th>\n",
       "      <th>product_ids</th>\n",
       "      <th>sex</th>\n",
       "    </tr>\n",
       "  </thead>\n",
       "  <tbody>\n",
       "    <tr>\n",
       "      <th>0</th>\n",
       "      <td>107</td>\n",
       "      <td>[5868]</td>\n",
       "      <td>0.5</td>\n",
       "    </tr>\n",
       "    <tr>\n",
       "      <th>1</th>\n",
       "      <td>453</td>\n",
       "      <td>[11854]</td>\n",
       "      <td>0.0</td>\n",
       "    </tr>\n",
       "    <tr>\n",
       "      <th>2</th>\n",
       "      <td>1011</td>\n",
       "      <td>[10609, 7110]</td>\n",
       "      <td>1.0</td>\n",
       "    </tr>\n",
       "    <tr>\n",
       "      <th>3</th>\n",
       "      <td>1135</td>\n",
       "      <td>[8994]</td>\n",
       "      <td>1.0</td>\n",
       "    </tr>\n",
       "    <tr>\n",
       "      <th>4</th>\n",
       "      <td>2947</td>\n",
       "      <td>[5868]</td>\n",
       "      <td>1.0</td>\n",
       "    </tr>\n",
       "  </tbody>\n",
       "</table>\n",
       "</div>"
      ],
      "text/plain": [
       "   customer_id    product_ids  sex\n",
       "0          107         [5868]  0.5\n",
       "1          453        [11854]  0.0\n",
       "2         1011  [10609, 7110]  1.0\n",
       "3         1135         [8994]  1.0\n",
       "4         2947         [5868]  1.0"
      ]
     },
     "execution_count": 14,
     "metadata": {},
     "output_type": "execute_result"
    }
   ],
   "source": [
    "# relevant = purchases_test.groupby('customer_id')['product_id'].apply(lambda s: s.values).reset_index()\n",
    "# relevant.rename(columns={'product_id': 'product_ids'}, inplace=True)\n",
    "\n",
    "relevant = relevant.merge(customers, on='customer_id')\n",
    "relevant.head()"
   ]
  },
  {
   "cell_type": "code",
   "execution_count": 17,
   "metadata": {},
   "outputs": [
    {
     "data": {
      "text/plain": [
       "0.5    0.461606\n",
       "1.0    0.408575\n",
       "0.0    0.129819\n",
       "Name: sex, dtype: float64"
      ]
     },
     "execution_count": 17,
     "metadata": {},
     "output_type": "execute_result"
    }
   ],
   "source": [
    "relevant.sex.value_counts(normalize=True)"
   ]
  },
  {
   "cell_type": "markdown",
   "metadata": {},
   "source": [
    "## Оценка построенных моделей"
   ]
  },
  {
   "cell_type": "code",
   "execution_count": 28,
   "metadata": {},
   "outputs": [
    {
     "name": "stdout",
     "output_type": "stream",
     "text": [
      "female model 0.08410883597217708\n",
      "baseline model 0.07794993336671656\n"
     ]
    }
   ],
   "source": [
    "recommendations = []\n",
    "cond = relevant.sex == 1\n",
    "model = als_female\n",
    "for i, user in relevant[cond].iterrows():\n",
    "    recommendations.append([x[0] for x in model.recommend(user.customer_id)])\n",
    "\n",
    "print('female model', mapk(relevant[cond]['product_ids'], recommendations, k=10))\n",
    "      \n",
    "recommendations = []\n",
    "model = als\n",
    "for i, user in relevant[cond].iterrows():\n",
    "    recommendations.append([x[0] for x in model.recommend(user.customer_id)])\n",
    "\n",
    "print('baseline model', mapk(relevant[cond]['product_ids'], recommendations, k=10))"
   ]
  },
  {
   "cell_type": "code",
   "execution_count": 29,
   "metadata": {},
   "outputs": [
    {
     "name": "stdout",
     "output_type": "stream",
     "text": [
      "male model 0.052556756289152205\n",
      "baseline model 0.07019546180216456\n"
     ]
    }
   ],
   "source": [
    "recommendations = []\n",
    "cond = relevant.sex == 0\n",
    "model = als_male\n",
    "for i, user in relevant[cond].iterrows():\n",
    "    recommendations.append([x[0] for x in model.recommend(user.customer_id)])\n",
    "\n",
    "print('male model', mapk(relevant[cond]['product_ids'], recommendations, k=10))\n",
    "      \n",
    "recommendations = []\n",
    "model = als\n",
    "for i, user in relevant[cond].iterrows():\n",
    "    recommendations.append([x[0] for x in model.recommend(user.customer_id)])\n",
    "\n",
    "print('baseline model', mapk(relevant[cond]['product_ids'], recommendations, k=10))"
   ]
  },
  {
   "cell_type": "markdown",
   "metadata": {},
   "source": [
    "### Как видно из результатов выше, als модель построенная, только на информации о покупках кастомеров, ЖЕНСКИЙ пол которых нам известен ЛУЧШЕ, чем БЕЙЗЛАЙН модель. С другой строны, als модель построенная, только на информации о покупках кастомеров, МУЖСКОЙ пол которых нам известен ХУЖЕ, чем БЕЙЗЛАЙН модель. Исходя из этого будем использовать female_als модель, только для рекомендации кастомерам, женский пол которых нам известен, для остальных кастомеров будем использовать бейзлайн модель. Результаты от улучшения представлены ниже."
   ]
  },
  {
   "cell_type": "code",
   "execution_count": 31,
   "metadata": {},
   "outputs": [
    {
     "name": "stdout",
     "output_type": "stream",
     "text": [
      "female model + baseline model 0.15631778095398915\n",
      "baseline model 0.15380140961270836\n"
     ]
    }
   ],
   "source": [
    "recommendations = []\n",
    "for i, user in relevant.iterrows():\n",
    "    if user.sex == 1:\n",
    "        model = als_female\n",
    "    else:\n",
    "        model = als\n",
    "    recommendations.append([x[0] for x in model.recommend(user.customer_id)])\n",
    "\n",
    "print('female model + baseline model', mapk(relevant['product_ids'], recommendations, k=10))\n",
    "    \n",
    "recommendations = []\n",
    "model = als\n",
    "for i, user in relevant.iterrows():\n",
    "    recommendations.append([x[0] for x in model.recommend(user.customer_id)])\n",
    "\n",
    "print('baseline model', mapk(relevant['product_ids'], recommendations, k=10))"
   ]
  },
  {
   "cell_type": "markdown",
   "metadata": {},
   "source": [
    "# Часть 2: Построить множество product-based и customer-based фич, а затем на основе сходства между кастомерами и продуктами рекомендовать наиболее подходящие для кастомеров продукты. В этой части мы будет предполагать, что распределения пола по кастомерам, чей пол неизвестен такое же, что и распределение пола по кастомерам с известным нам полом."
   ]
  },
  {
   "cell_type": "markdown",
   "metadata": {},
   "source": [
    "### Prodact features"
   ]
  },
  {
   "cell_type": "code",
   "execution_count": 18,
   "metadata": {},
   "outputs": [
    {
     "data": {
      "text/plain": [
       "0.733817455249711"
      ]
     },
     "execution_count": 18,
     "metadata": {},
     "output_type": "execute_result"
    }
   ],
   "source": [
    "purchases_train.cust_mean.mean()"
   ]
  },
  {
   "cell_type": "code",
   "execution_count": 19,
   "metadata": {},
   "outputs": [],
   "source": [
    "tmp = purchases_train[purchases_train['sex'] != 0.5].drop_duplicates(['customer_id', 'product_id']).groupby('product_id')['sex'].agg([\n",
    "                                    ('unique_cust_count_sex_known', len), # общее кол-во уникальных customers, чей пол известен и которые купили item\n",
    "                                    ('unique_female_count_sex_known', sum), # общее женщин среди всех уникальных customers, чей пол известен и которые купили item\n",
    "                                    ('cust_mean', lambda x: round(np.mean(x), 5)), # 'средний пол' item-а\n",
    "                                    ('cust_median', lambda x: round(np.median(x), 5)),\n",
    "                            ]).reset_index()\n",
    "purchases_train = purchases_train.merge(tmp, how='left', on='product_id')\n",
    "\n",
    "# #избавляемся от байеса для cust_mean\n",
    "# cond = (purchases_train['sex'] != 0.5) & (purchases_train['cust_mean'] <= 0.75324)\n",
    "# purchases_train.loc[cond, 'cust_mean'] = np.maximum(0, purchases_train.loc[cond, 'cust_mean'].values/(2 * 0.75324))\n",
    "# cond = (purchases_train['sex'] != 0.5) & (purchases_train['cust_mean'] > 0.75324)\n",
    "# purchases_train.loc[cond, 'cust_mean'] = np.minimum(1, 0.5 + (purchases_train.loc[cond, 'cust_mean'].values - 0.75324) /(2 * (1 - 0.75324)))\n",
    "# purchases_train['cust_mean'].fillna(0.5, inplace=True)\n",
    "# purchases_train['cust_median'].fillna(0.5, inplace=True)\n",
    "\n",
    "# na imputer для продуктов, которые не купил ни 1 customer с известным полом\n",
    "purchases_train['unique_cust_count_sex_known'].fillna(0, inplace=True) \n",
    "purchases_train['unique_female_count_sex_known'].fillna(0, inplace=True)\n",
    "purchases_train['cust_mean'].fillna(0.733817455249711, inplace=True)\n",
    "purchases_train['cust_median'].fillna(0.733817455249711, inplace=True)\n",
    "\n",
    "# количество уникальных customer-ов, которые купили item\n",
    "tmp = purchases_train.drop_duplicates(['customer_id', 'product_id']).groupby('product_id')['sex'].agg([('unique_cust_count_all_sex', len)]).reset_index()\n",
    "purchases_train = purchases_train.merge(tmp, how='left', on='product_id')\n",
    "\n",
    "#количество покупок, которые были повершены всеми customer-ами за период тренировочной выборке\n",
    "tmp = purchases_train.groupby('product_id')['sex'].agg([('cust_count', len)]).reset_index()\n",
    "purchases_train = purchases_train.merge(tmp, how='left', on='product_id')\n",
    "\n",
    "# расчитываем скор item-а на основе заинтересованности к нему со стороны различных customer-ов и рассчитанного ранее cust_mean\n",
    "# если заинтересованность больше со стороны женской половины, то значение скора > 0, иначе < 0\n",
    "# чем больше заинтересованность со стороны различных customer-ов тем больше по модулю скор (тем он популярнее)\n",
    "for i in [('Item_sin_score', 'cust_mean', lambda x:  np.sin((x - 0.5) * np.pi)),\n",
    "          ('Item_lin_score', 'cust_mean', lambda x:  (x - 0.5) * 2),\n",
    "         ]:\n",
    "    tmp = purchases_train.drop_duplicates(['customer_id', 'product_id']).groupby('product_id').first()[['unique_cust_count_sex_known', i[1]]].reset_index()\n",
    "    tmp[i[0]] = np.round(np.log(tmp.unique_cust_count_sex_known.values + 1) * i[2](tmp[i[1]].values), 5)\n",
    "    purchases_train = purchases_train.merge(tmp[['product_id', i[0]]], how='left', on='product_id')\n",
    "\n",
    "# посчитать сколько было куплено каждого item-а за последний месяц - для отсечения непопулярных item-ов во время рекомендации\n",
    "last_month_cond = purchases_train['datetime'] > purchases_train['datetime'].max()  - dt.timedelta(days=30)\n",
    "tmp = purchases_train[last_month_cond].drop_duplicates(['customer_id', 'product_id']).groupby('product_id')['sex'].agg([\n",
    "                                    ('unique_cust_count_all_sex_last_month', len), \n",
    "                            ]).reset_index()\n",
    "purchases_train = purchases_train.merge(tmp, how='left', on='product_id')\n",
    "purchases_train['unique_cust_count_all_sex_last_month'].fillna(0, inplace=True)\n",
    "\n",
    "tmp = purchases_train[last_month_cond].groupby('product_id')['sex'].agg([\n",
    "                                    ('cust_count_last_month', len), \n",
    "                            ]).reset_index()\n",
    "purchases_train = purchases_train.merge(tmp, how='left', on='product_id')\n",
    "purchases_train['cust_count_last_month'].fillna(0, inplace=True)"
   ]
  },
  {
   "cell_type": "code",
   "execution_count": 16,
   "metadata": {},
   "outputs": [
    {
     "data": {
      "text/html": [
       "<div>\n",
       "<style scoped>\n",
       "    .dataframe tbody tr th:only-of-type {\n",
       "        vertical-align: middle;\n",
       "    }\n",
       "\n",
       "    .dataframe tbody tr th {\n",
       "        vertical-align: top;\n",
       "    }\n",
       "\n",
       "    .dataframe thead th {\n",
       "        text-align: right;\n",
       "    }\n",
       "</style>\n",
       "<table border=\"1\" class=\"dataframe\">\n",
       "  <thead>\n",
       "    <tr style=\"text-align: right;\">\n",
       "      <th></th>\n",
       "      <th>customer_id</th>\n",
       "      <th>product_id</th>\n",
       "      <th>datetime</th>\n",
       "      <th>sex</th>\n",
       "      <th>unique_cust_count_sex_known</th>\n",
       "      <th>unique_female_count_sex_known</th>\n",
       "      <th>cust_mean</th>\n",
       "      <th>cust_median</th>\n",
       "      <th>unique_cust_count_all_sex</th>\n",
       "      <th>cust_count</th>\n",
       "      <th>Item_sin_score</th>\n",
       "      <th>Item_lin_score</th>\n",
       "      <th>unique_cust_count_all_sex_last_month</th>\n",
       "      <th>cust_count_last_month</th>\n",
       "    </tr>\n",
       "  </thead>\n",
       "  <tbody>\n",
       "    <tr>\n",
       "      <th>0</th>\n",
       "      <td>8698595</td>\n",
       "      <td>12530</td>\n",
       "      <td>2004-03-10 22:18:43.497459200</td>\n",
       "      <td>0.5</td>\n",
       "      <td>101.0</td>\n",
       "      <td>78.0</td>\n",
       "      <td>0.77228</td>\n",
       "      <td>1.0</td>\n",
       "      <td>700.0</td>\n",
       "      <td>700.0</td>\n",
       "      <td>3.49106</td>\n",
       "      <td>2.51858</td>\n",
       "      <td>166.0</td>\n",
       "      <td>166.0</td>\n",
       "    </tr>\n",
       "    <tr>\n",
       "      <th>1</th>\n",
       "      <td>8698595</td>\n",
       "      <td>5868</td>\n",
       "      <td>2004-02-28 12:47:15.358828800</td>\n",
       "      <td>0.5</td>\n",
       "      <td>3330.0</td>\n",
       "      <td>2338.0</td>\n",
       "      <td>0.70210</td>\n",
       "      <td>1.0</td>\n",
       "      <td>11703.0</td>\n",
       "      <td>11714.0</td>\n",
       "      <td>4.81073</td>\n",
       "      <td>3.27848</td>\n",
       "      <td>11667.0</td>\n",
       "      <td>11673.0</td>\n",
       "    </tr>\n",
       "    <tr>\n",
       "      <th>2</th>\n",
       "      <td>13271885</td>\n",
       "      <td>7541</td>\n",
       "      <td>2004-03-06 02:24:43.209763200</td>\n",
       "      <td>1.0</td>\n",
       "      <td>221.0</td>\n",
       "      <td>114.0</td>\n",
       "      <td>0.51584</td>\n",
       "      <td>1.0</td>\n",
       "      <td>354.0</td>\n",
       "      <td>362.0</td>\n",
       "      <td>0.26874</td>\n",
       "      <td>0.17116</td>\n",
       "      <td>66.0</td>\n",
       "      <td>66.0</td>\n",
       "    </tr>\n",
       "    <tr>\n",
       "      <th>3</th>\n",
       "      <td>13271885</td>\n",
       "      <td>280</td>\n",
       "      <td>2004-03-07 12:28:36.705312000</td>\n",
       "      <td>1.0</td>\n",
       "      <td>244.0</td>\n",
       "      <td>97.0</td>\n",
       "      <td>0.39754</td>\n",
       "      <td>0.0</td>\n",
       "      <td>384.0</td>\n",
       "      <td>394.0</td>\n",
       "      <td>-1.74037</td>\n",
       "      <td>-1.12732</td>\n",
       "      <td>96.0</td>\n",
       "      <td>98.0</td>\n",
       "    </tr>\n",
       "    <tr>\n",
       "      <th>4</th>\n",
       "      <td>13271885</td>\n",
       "      <td>9439</td>\n",
       "      <td>2004-03-11 22:16:47.509084800</td>\n",
       "      <td>1.0</td>\n",
       "      <td>91.0</td>\n",
       "      <td>43.0</td>\n",
       "      <td>0.47253</td>\n",
       "      <td>0.0</td>\n",
       "      <td>146.0</td>\n",
       "      <td>151.0</td>\n",
       "      <td>-0.38974</td>\n",
       "      <td>-0.24843</td>\n",
       "      <td>36.0</td>\n",
       "      <td>36.0</td>\n",
       "    </tr>\n",
       "  </tbody>\n",
       "</table>\n",
       "</div>"
      ],
      "text/plain": [
       "   customer_id  product_id                      datetime  sex  \\\n",
       "0      8698595       12530 2004-03-10 22:18:43.497459200  0.5   \n",
       "1      8698595        5868 2004-02-28 12:47:15.358828800  0.5   \n",
       "2     13271885        7541 2004-03-06 02:24:43.209763200  1.0   \n",
       "3     13271885         280 2004-03-07 12:28:36.705312000  1.0   \n",
       "4     13271885        9439 2004-03-11 22:16:47.509084800  1.0   \n",
       "\n",
       "   unique_cust_count_sex_known  unique_female_count_sex_known  cust_mean  \\\n",
       "0                        101.0                           78.0    0.77228   \n",
       "1                       3330.0                         2338.0    0.70210   \n",
       "2                        221.0                          114.0    0.51584   \n",
       "3                        244.0                           97.0    0.39754   \n",
       "4                         91.0                           43.0    0.47253   \n",
       "\n",
       "   cust_median  unique_cust_count_all_sex  cust_count  Item_sin_score  \\\n",
       "0          1.0                      700.0       700.0         3.49106   \n",
       "1          1.0                    11703.0     11714.0         4.81073   \n",
       "2          1.0                      354.0       362.0         0.26874   \n",
       "3          0.0                      384.0       394.0        -1.74037   \n",
       "4          0.0                      146.0       151.0        -0.38974   \n",
       "\n",
       "   Item_lin_score  unique_cust_count_all_sex_last_month  cust_count_last_month  \n",
       "0         2.51858                                 166.0                  166.0  \n",
       "1         3.27848                               11667.0                11673.0  \n",
       "2         0.17116                                  66.0                   66.0  \n",
       "3        -1.12732                                  96.0                   98.0  \n",
       "4        -0.24843                                  36.0                   36.0  "
      ]
     },
     "execution_count": 16,
     "metadata": {},
     "output_type": "execute_result"
    }
   ],
   "source": [
    "purchases_train.head()"
   ]
  },
  {
   "cell_type": "markdown",
   "metadata": {},
   "source": [
    "### User features"
   ]
  },
  {
   "cell_type": "code",
   "execution_count": 20,
   "metadata": {},
   "outputs": [
    {
     "name": "stderr",
     "output_type": "stream",
     "text": [
      "C:\\Python36\\lib\\site-packages\\ipykernel_launcher.py:29: RuntimeWarning: invalid value encountered in true_divide\n"
     ]
    }
   ],
   "source": [
    "# кол-во уникальных item-ов, купленных каждым customer_id\n",
    "tmp = purchases_train.drop_duplicates(['customer_id', 'product_id']).groupby('customer_id')['product_id'].agg([('unique_prod_count', len)]).reset_index()\n",
    "purchases_train = purchases_train.merge(tmp, how='left', on='customer_id')\n",
    "\n",
    "# расчет среднего, медианы, минимального и максимального значений, среднеквадратичного отклонения \n",
    "# по рассчитанными скорам для каждого customer\n",
    "for i in ['cust_mean', 'Item_sin_score', 'Item_lin_score']:\n",
    "    tmp = purchases_train.drop_duplicates(['customer_id', 'product_id']).groupby('customer_id')[i].agg([\n",
    "                             (f'{i}_prod_mean', np.mean),\n",
    "                             (f'{i}_prod_median', np.median),\n",
    "                             (f'{i}_prod_min', min),\n",
    "                             (f'{i}_prod_max', max),\n",
    "                             (f'{i}_prod_std', np.std),\n",
    "                                                                                                       ]).reset_index()\n",
    "    purchases_train = purchases_train.merge(tmp, how='left', on='customer_id')\n",
    "    purchases_train[f'{i}_prod_std'].fillna(0, inplace=True)\n",
    "    tmp = purchases_train.drop_duplicates(['customer_id', 'product_id']).groupby('customer_id')[i].apply(lambda x: x.values).reset_index().rename(columns={i: f'{i}_values'})\n",
    "    purchases_train = purchases_train.merge(tmp, how='left', on='customer_id')\n",
    "\n",
    "# общее кол-во item-ов, купленных каждым customer_id\n",
    "tmp = purchases_train.groupby('customer_id')['product_id'].agg([('prod_count', len)]).reset_index()\n",
    "purchases_train = purchases_train.merge(tmp, how='left', on='customer_id')\n",
    "\n",
    "# расчет 'среднего пола' customer-а на основе рассчитанных для item-ов абсолютных значений unique_cust_count_sex_known и unique_cust_count_sex_known\n",
    "# например, если customer купил 1 item, о котором нам известно, что его купила 1 женщина из 3 человек,\n",
    "# а также купил другой item, о котором нам известно, что его купило 80 женщин из 100\n",
    "# то в результате rel_cust_sex customer-а будет равен 81/103\n",
    "tmp = purchases_train.drop_duplicates(['customer_id', 'product_id']).groupby('customer_id')[['unique_cust_count_sex_known', 'unique_female_count_sex_known']].sum().reset_index()\n",
    "tmp['rel_cust_sex'] = tmp['unique_female_count_sex_known'].values / tmp['unique_cust_count_sex_known'].values\n",
    "\n",
    "# cond = (~tmp['rel_cust_sex'].isna()) & (tmp['rel_cust_sex'] <= 0.75324)\n",
    "# tmp.loc[cond, 'rel_cust_sex'] = np.maximum(0, tmp.loc[cond, 'rel_cust_sex'].values/(2 * 0.75324))\n",
    "# cond = (~tmp['rel_cust_sex'].isna()) & (tmp['rel_cust_sex'] > 0.75324)\n",
    "# tmp.loc[cond, 'rel_cust_sex'] = np.minimum(1, 0.5 + (tmp.loc[cond, 'rel_cust_sex'].values - 0.75324) /(2 * (1 - 0.75324)))\n",
    "\n",
    "tmp.fillna(0.75324, inplace=True)\n",
    "purchases_train = purchases_train.merge(tmp[['customer_id', 'rel_cust_sex']], how='left', on='customer_id')\n",
    "\n",
    "# список предметов, которые были куплены в тренеровочной выборке (чтобы не предсказывать их для тестовой выборки)\n",
    "tmp = purchases_train.drop_duplicates(['customer_id', 'product_id']).groupby('customer_id')['product_id'].apply(lambda x: x.values).reset_index().rename(columns={'product_id': 'product_ids'})\n",
    "purchases_train = purchases_train.merge(tmp, how='left', on='customer_id')"
   ]
  },
  {
   "cell_type": "markdown",
   "metadata": {},
   "source": [
    "### Сформируем отдельно матрицу пользователей с соотвтствующими признаками"
   ]
  },
  {
   "cell_type": "code",
   "execution_count": 21,
   "metadata": {},
   "outputs": [
    {
     "data": {
      "text/plain": [
       "(107491, 25)"
      ]
     },
     "execution_count": 21,
     "metadata": {},
     "output_type": "execute_result"
    }
   ],
   "source": [
    "user_clmns = ['customer_id', 'datetime', 'sex', 'rel_cust_sex', \n",
    "               'cust_mean_prod_mean', 'cust_mean_prod_median', 'cust_mean_prod_min',\n",
    "               'cust_mean_prod_max', 'cust_mean_prod_std', 'cust_mean_values',\n",
    "               'Item_sin_score_prod_mean', 'Item_sin_score_prod_median',\n",
    "               'Item_sin_score_prod_min', 'Item_sin_score_prod_max',\n",
    "               'Item_sin_score_prod_std', 'Item_sin_score_values',\n",
    "               'Item_lin_score_prod_mean', 'Item_lin_score_prod_median',\n",
    "               'Item_lin_score_prod_min', 'Item_lin_score_prod_max',\n",
    "               'Item_lin_score_prod_std', 'Item_lin_score_values', \n",
    "               'unique_prod_count', 'prod_count',\n",
    "               'product_ids',\n",
    "             ]\n",
    "new_users_matrix = purchases_train.drop_duplicates('customer_id')[user_clmns].reset_index(drop=True)\n",
    "new_users_matrix.shape"
   ]
  },
  {
   "cell_type": "code",
   "execution_count": null,
   "metadata": {},
   "outputs": [],
   "source": [
    "new_users_matrix = pd.read_csv('new_users_matrix.csv', sep=';')"
   ]
  },
  {
   "cell_type": "markdown",
   "metadata": {},
   "source": [
    "### Из ниже приведенных гистограмм видно небольшое гендорное различие customer-ов по суммарным покупкам на основе вычисленных нами скоров (синим - женщины, оранжевым - мужчины)"
   ]
  },
  {
   "cell_type": "code",
   "execution_count": 22,
   "metadata": {},
   "outputs": [
    {
     "data": {
      "image/png": "[encoded data removed]",
      "text/plain": [
       "<Figure size 576x360 with 1 Axes>"
      ]
     },
     "metadata": {},
     "output_type": "display_data"
    }
   ],
   "source": [
    "plt.figure(figsize=(8, 5));\n",
    "sns.distplot(new_users_matrix[new_users_matrix.sex == 1]['cust_mean_prod_mean'])\n",
    "sns.distplot(new_users_matrix[new_users_matrix.sex == 0]['cust_mean_prod_mean']);\n"
   ]
  },
  {
   "cell_type": "code",
   "execution_count": 23,
   "metadata": {},
   "outputs": [
    {
     "data": {
      "image/png": "[encoded data removed]",
      "text/plain": [
       "<Figure size 576x360 with 1 Axes>"
      ]
     },
     "metadata": {},
     "output_type": "display_data"
    }
   ],
   "source": [
    "plt.figure(figsize=(8, 5));\n",
    "sns.distplot(new_users_matrix[new_users_matrix.sex == 1]['rel_cust_sex'])\n",
    "sns.distplot(new_users_matrix[new_users_matrix.sex == 0]['rel_cust_sex']);\n"
   ]
  },
  {
   "cell_type": "code",
   "execution_count": 24,
   "metadata": {},
   "outputs": [
    {
     "data": {
      "image/png": "[encoded data removed]",
      "text/plain": [
       "<Figure size 576x360 with 1 Axes>"
      ]
     },
     "metadata": {},
     "output_type": "display_data"
    }
   ],
   "source": [
    "plt.figure(figsize=(8, 5));\n",
    "sns.distplot(new_users_matrix[new_users_matrix.sex == 1]['rel_cust_sex'])\n",
    "sns.distplot(new_users_matrix[new_users_matrix.sex == 0]['rel_cust_sex']);\n"
   ]
  },
  {
   "cell_type": "code",
   "execution_count": 25,
   "metadata": {},
   "outputs": [
    {
     "data": {
      "image/png": "[encoded data removed]",
      "text/plain": [
       "<Figure size 576x360 with 1 Axes>"
      ]
     },
     "metadata": {},
     "output_type": "display_data"
    }
   ],
   "source": [
    "plt.figure(figsize=(8, 5));\n",
    "sns.distplot(new_users_matrix[new_users_matrix.sex == 1]['Item_sin_score_prod_mean'])\n",
    "sns.distplot(new_users_matrix[new_users_matrix.sex == 0]['Item_sin_score_prod_mean']);\n"
   ]
  },
  {
   "cell_type": "code",
   "execution_count": 26,
   "metadata": {},
   "outputs": [
    {
     "data": {
      "image/png": "[encoded data removed]",
      "text/plain": [
       "<Figure size 576x360 with 1 Axes>"
      ]
     },
     "metadata": {},
     "output_type": "display_data"
    }
   ],
   "source": [
    "plt.figure(figsize=(8, 5));\n",
    "sns.distplot(new_users_matrix[new_users_matrix.sex == 1]['Item_lin_score_prod_mean'])\n",
    "sns.distplot(new_users_matrix[new_users_matrix.sex == 0]['Item_lin_score_prod_mean']);\n"
   ]
  },
  {
   "cell_type": "markdown",
   "metadata": {},
   "source": [
    "### Из ниже представленной гистограммы видно, что среди людей, которые купили >= 4 уникальных item-ов немного большее количество женщин. И наоборот мужчины более скудны с точки зрения разнообразия покупаемых item-ов."
   ]
  },
  {
   "cell_type": "code",
   "execution_count": 27,
   "metadata": {},
   "outputs": [
    {
     "data": {
      "image/png": "[encoded data removed]",
      "text/plain": [
       "<Figure size 576x360 with 1 Axes>"
      ]
     },
     "metadata": {},
     "output_type": "display_data"
    }
   ],
   "source": [
    "plt.figure(figsize=(8, 5));\n",
    "sns.distplot(new_users_matrix[(new_users_matrix.sex == 1) & (new_users_matrix['unique_prod_count']<25)]['unique_prod_count'])\n",
    "sns.distplot(new_users_matrix[(new_users_matrix.sex == 0) & (new_users_matrix['unique_prod_count']<25)]['unique_prod_count']);\n"
   ]
  },
  {
   "cell_type": "code",
   "execution_count": 28,
   "metadata": {},
   "outputs": [
    {
     "data": {
      "image/png": "[encoded data removed]",
      "text/plain": [
       "<Figure size 576x360 with 1 Axes>"
      ]
     },
     "metadata": {},
     "output_type": "display_data"
    }
   ],
   "source": [
    "plt.figure(figsize=(8, 5));\n",
    "sns.distplot(new_users_matrix[(new_users_matrix.sex == 1) & (new_users_matrix['prod_count']<25)]['prod_count'])\n",
    "sns.distplot(new_users_matrix[(new_users_matrix.sex == 0) & (new_users_matrix['prod_count']<25)]['prod_count']);\n"
   ]
  },
  {
   "cell_type": "code",
   "execution_count": 29,
   "metadata": {},
   "outputs": [
    {
     "data": {
      "text/html": [
       "<div>\n",
       "<style scoped>\n",
       "    .dataframe tbody tr th:only-of-type {\n",
       "        vertical-align: middle;\n",
       "    }\n",
       "\n",
       "    .dataframe tbody tr th {\n",
       "        vertical-align: top;\n",
       "    }\n",
       "\n",
       "    .dataframe thead th {\n",
       "        text-align: right;\n",
       "    }\n",
       "</style>\n",
       "<table border=\"1\" class=\"dataframe\">\n",
       "  <thead>\n",
       "    <tr style=\"text-align: right;\">\n",
       "      <th></th>\n",
       "      <th>unique_prod_count</th>\n",
       "      <th>prod_count</th>\n",
       "    </tr>\n",
       "  </thead>\n",
       "  <tbody>\n",
       "    <tr>\n",
       "      <th>count</th>\n",
       "      <td>107491.000000</td>\n",
       "      <td>107491.000000</td>\n",
       "    </tr>\n",
       "    <tr>\n",
       "      <th>mean</th>\n",
       "      <td>3.170238</td>\n",
       "      <td>3.271772</td>\n",
       "    </tr>\n",
       "    <tr>\n",
       "      <th>std</th>\n",
       "      <td>5.935078</td>\n",
       "      <td>8.610816</td>\n",
       "    </tr>\n",
       "    <tr>\n",
       "      <th>min</th>\n",
       "      <td>1.000000</td>\n",
       "      <td>1.000000</td>\n",
       "    </tr>\n",
       "    <tr>\n",
       "      <th>0%</th>\n",
       "      <td>1.000000</td>\n",
       "      <td>1.000000</td>\n",
       "    </tr>\n",
       "    <tr>\n",
       "      <th>10%</th>\n",
       "      <td>1.000000</td>\n",
       "      <td>1.000000</td>\n",
       "    </tr>\n",
       "    <tr>\n",
       "      <th>20%</th>\n",
       "      <td>1.000000</td>\n",
       "      <td>1.000000</td>\n",
       "    </tr>\n",
       "    <tr>\n",
       "      <th>30%</th>\n",
       "      <td>1.000000</td>\n",
       "      <td>1.000000</td>\n",
       "    </tr>\n",
       "    <tr>\n",
       "      <th>40%</th>\n",
       "      <td>1.000000</td>\n",
       "      <td>1.000000</td>\n",
       "    </tr>\n",
       "    <tr>\n",
       "      <th>50%</th>\n",
       "      <td>1.000000</td>\n",
       "      <td>1.000000</td>\n",
       "    </tr>\n",
       "    <tr>\n",
       "      <th>60%</th>\n",
       "      <td>2.000000</td>\n",
       "      <td>2.000000</td>\n",
       "    </tr>\n",
       "    <tr>\n",
       "      <th>70%</th>\n",
       "      <td>3.000000</td>\n",
       "      <td>3.000000</td>\n",
       "    </tr>\n",
       "    <tr>\n",
       "      <th>80%</th>\n",
       "      <td>4.000000</td>\n",
       "      <td>4.000000</td>\n",
       "    </tr>\n",
       "    <tr>\n",
       "      <th>90%</th>\n",
       "      <td>7.000000</td>\n",
       "      <td>7.000000</td>\n",
       "    </tr>\n",
       "    <tr>\n",
       "      <th>max</th>\n",
       "      <td>496.000000</td>\n",
       "      <td>1451.000000</td>\n",
       "    </tr>\n",
       "  </tbody>\n",
       "</table>\n",
       "</div>"
      ],
      "text/plain": [
       "       unique_prod_count     prod_count\n",
       "count      107491.000000  107491.000000\n",
       "mean            3.170238       3.271772\n",
       "std             5.935078       8.610816\n",
       "min             1.000000       1.000000\n",
       "0%              1.000000       1.000000\n",
       "10%             1.000000       1.000000\n",
       "20%             1.000000       1.000000\n",
       "30%             1.000000       1.000000\n",
       "40%             1.000000       1.000000\n",
       "50%             1.000000       1.000000\n",
       "60%             2.000000       2.000000\n",
       "70%             3.000000       3.000000\n",
       "80%             4.000000       4.000000\n",
       "90%             7.000000       7.000000\n",
       "max           496.000000    1451.000000"
      ]
     },
     "execution_count": 29,
     "metadata": {},
     "output_type": "execute_result"
    }
   ],
   "source": [
    "new_users_matrix[['unique_prod_count', 'prod_count']].describe(percentiles=np.round(np.arange(0, 1, .1), 2))"
   ]
  },
  {
   "cell_type": "markdown",
   "metadata": {},
   "source": [
    "## Исходя из выше представленного распределения видно, что свыше 50% кастомеров купили всего лишь 1 продукт."
   ]
  },
  {
   "cell_type": "markdown",
   "metadata": {},
   "source": [
    "### Сформируем отдельно матрицу продуктов с соотвтствующими признаками"
   ]
  },
  {
   "cell_type": "code",
   "execution_count": 30,
   "metadata": {},
   "outputs": [
    {
     "data": {
      "text/plain": [
       "(1792, 12)"
      ]
     },
     "execution_count": 30,
     "metadata": {},
     "output_type": "execute_result"
    }
   ],
   "source": [
    "item_clmns = ['product_id', 'datetime', 'unique_cust_count_sex_known', 'unique_female_count_sex_known',\n",
    "       'cust_mean', 'cust_median', 'unique_cust_count_all_sex', 'cust_count',\n",
    "       'unique_cust_count_all_sex_last_month', 'cust_count_last_month',\n",
    "       'Item_sin_score', 'Item_lin_score',]\n",
    "new_items_matrix = purchases_train.drop_duplicates('product_id')[item_clmns].reset_index(drop=True)\n",
    "new_items_matrix.shape"
   ]
  },
  {
   "cell_type": "code",
   "execution_count": null,
   "metadata": {},
   "outputs": [],
   "source": [
    "new_items_matrix = pd.read_csv('new_items_matrix.csv', sep=';')"
   ]
  },
  {
   "cell_type": "code",
   "execution_count": 31,
   "metadata": {
    "scrolled": true
   },
   "outputs": [
    {
     "data": {
      "text/html": [
       "<div>\n",
       "<style scoped>\n",
       "    .dataframe tbody tr th:only-of-type {\n",
       "        vertical-align: middle;\n",
       "    }\n",
       "\n",
       "    .dataframe tbody tr th {\n",
       "        vertical-align: top;\n",
       "    }\n",
       "\n",
       "    .dataframe thead th {\n",
       "        text-align: right;\n",
       "    }\n",
       "</style>\n",
       "<table border=\"1\" class=\"dataframe\">\n",
       "  <thead>\n",
       "    <tr style=\"text-align: right;\">\n",
       "      <th></th>\n",
       "      <th>unique_cust_count_all_sex</th>\n",
       "      <th>cust_count</th>\n",
       "    </tr>\n",
       "  </thead>\n",
       "  <tbody>\n",
       "    <tr>\n",
       "      <th>count</th>\n",
       "      <td>1792.000000</td>\n",
       "      <td>1792.000000</td>\n",
       "    </tr>\n",
       "    <tr>\n",
       "      <th>mean</th>\n",
       "      <td>190.162946</td>\n",
       "      <td>196.253348</td>\n",
       "    </tr>\n",
       "    <tr>\n",
       "      <th>std</th>\n",
       "      <td>504.045972</td>\n",
       "      <td>509.804397</td>\n",
       "    </tr>\n",
       "    <tr>\n",
       "      <th>min</th>\n",
       "      <td>1.000000</td>\n",
       "      <td>1.000000</td>\n",
       "    </tr>\n",
       "    <tr>\n",
       "      <th>0%</th>\n",
       "      <td>1.000000</td>\n",
       "      <td>1.000000</td>\n",
       "    </tr>\n",
       "    <tr>\n",
       "      <th>10%</th>\n",
       "      <td>3.000000</td>\n",
       "      <td>3.000000</td>\n",
       "    </tr>\n",
       "    <tr>\n",
       "      <th>20%</th>\n",
       "      <td>12.000000</td>\n",
       "      <td>12.000000</td>\n",
       "    </tr>\n",
       "    <tr>\n",
       "      <th>30%</th>\n",
       "      <td>22.000000</td>\n",
       "      <td>23.000000</td>\n",
       "    </tr>\n",
       "    <tr>\n",
       "      <th>40%</th>\n",
       "      <td>38.400000</td>\n",
       "      <td>39.000000</td>\n",
       "    </tr>\n",
       "    <tr>\n",
       "      <th>50%</th>\n",
       "      <td>62.500000</td>\n",
       "      <td>64.500000</td>\n",
       "    </tr>\n",
       "    <tr>\n",
       "      <th>60%</th>\n",
       "      <td>93.600000</td>\n",
       "      <td>98.000000</td>\n",
       "    </tr>\n",
       "    <tr>\n",
       "      <th>70%</th>\n",
       "      <td>148.000000</td>\n",
       "      <td>151.000000</td>\n",
       "    </tr>\n",
       "    <tr>\n",
       "      <th>80%</th>\n",
       "      <td>229.800000</td>\n",
       "      <td>237.400000</td>\n",
       "    </tr>\n",
       "    <tr>\n",
       "      <th>90%</th>\n",
       "      <td>440.200000</td>\n",
       "      <td>463.600000</td>\n",
       "    </tr>\n",
       "    <tr>\n",
       "      <th>max</th>\n",
       "      <td>11703.000000</td>\n",
       "      <td>11714.000000</td>\n",
       "    </tr>\n",
       "  </tbody>\n",
       "</table>\n",
       "</div>"
      ],
      "text/plain": [
       "       unique_cust_count_all_sex    cust_count\n",
       "count                1792.000000   1792.000000\n",
       "mean                  190.162946    196.253348\n",
       "std                   504.045972    509.804397\n",
       "min                     1.000000      1.000000\n",
       "0%                      1.000000      1.000000\n",
       "10%                     3.000000      3.000000\n",
       "20%                    12.000000     12.000000\n",
       "30%                    22.000000     23.000000\n",
       "40%                    38.400000     39.000000\n",
       "50%                    62.500000     64.500000\n",
       "60%                    93.600000     98.000000\n",
       "70%                   148.000000    151.000000\n",
       "80%                   229.800000    237.400000\n",
       "90%                   440.200000    463.600000\n",
       "max                 11703.000000  11714.000000"
      ]
     },
     "execution_count": 31,
     "metadata": {},
     "output_type": "execute_result"
    }
   ],
   "source": [
    "new_items_matrix[['unique_cust_count_all_sex', 'cust_count']].describe(percentiles=np.round(np.arange(0, 1, .1), 2))"
   ]
  },
  {
   "cell_type": "code",
   "execution_count": 32,
   "metadata": {},
   "outputs": [
    {
     "data": {
      "text/plain": [
       "<matplotlib.axes._subplots.AxesSubplot at 0x14b29455fd0>"
      ]
     },
     "execution_count": 32,
     "metadata": {},
     "output_type": "execute_result"
    },
    {
     "data": {
      "image/png": "[encoded data removed]",
      "text/plain": [
       "<Figure size 576x360 with 1 Axes>"
      ]
     },
     "metadata": {},
     "output_type": "display_data"
    }
   ],
   "source": [
    "plt.figure(figsize=(8, 5));\n",
    "sns.distplot(new_items_matrix['cust_mean'])\n"
   ]
  },
  {
   "cell_type": "code",
   "execution_count": 33,
   "metadata": {},
   "outputs": [
    {
     "data": {
      "text/plain": [
       "<matplotlib.axes._subplots.AxesSubplot at 0x14b294bec88>"
      ]
     },
     "execution_count": 33,
     "metadata": {},
     "output_type": "execute_result"
    },
    {
     "data": {
      "image/png": "[encoded data removed]",
      "text/plain": [
       "<Figure size 576x360 with 1 Axes>"
      ]
     },
     "metadata": {},
     "output_type": "display_data"
    }
   ],
   "source": [
    "plt.figure(figsize=(8, 5));\n",
    "sns.distplot(new_items_matrix['Item_sin_score'])\n"
   ]
  },
  {
   "cell_type": "code",
   "execution_count": 34,
   "metadata": {},
   "outputs": [
    {
     "data": {
      "text/plain": [
       "<matplotlib.axes._subplots.AxesSubplot at 0x14b29571c50>"
      ]
     },
     "execution_count": 34,
     "metadata": {},
     "output_type": "execute_result"
    },
    {
     "data": {
      "image/png": "[encoded data removed]",
      "text/plain": [
       "<Figure size 576x360 with 1 Axes>"
      ]
     },
     "metadata": {},
     "output_type": "display_data"
    }
   ],
   "source": [
    "plt.figure(figsize=(8, 5));\n",
    "sns.distplot(new_items_matrix['Item_lin_score'])\n"
   ]
  },
  {
   "cell_type": "markdown",
   "metadata": {},
   "source": [
    "## Определяем модель, которая будет рекомендовать на основе близости кастомера к продукту и популярности продукта. Также, если кастомер купил за период обучающей выборки <=N уникальных продуктов (cold-start), то будет предсказывать наиболее популярный продукт."
   ]
  },
  {
   "cell_type": "code",
   "execution_count": null,
   "metadata": {},
   "outputs": [],
   "source": [
    "# user_clmns = ['customer_id', 'datetime', 'sex', 'unique_prod_count',\n",
    "#                'cust_mean_prod_mean', 'cust_mean_prod_median', 'cust_mean_prod_min',\n",
    "#                'cust_mean_prod_max', 'cust_mean_prod_std', 'cust_mean_values',\n",
    "#                'Item_sin_score_prod_mean', 'Item_sin_score_prod_median',\n",
    "#                'Item_sin_score_prod_min', 'Item_sin_score_prod_max',\n",
    "#                'Item_sin_score_prod_std', 'Item_sin_score_values',\n",
    "#                'Item_lin_score_prod_mean', 'Item_lin_score_prod_median',\n",
    "#                'Item_lin_score_prod_min', 'Item_lin_score_prod_max',\n",
    "#                'Item_lin_score_prod_std', 'Item_lin_score_values', 'prod_count',\n",
    "#               'product_ids', 'rel_cust_sex'\n",
    "#              ]\n",
    "# item_clmns = ['product_id', 'datetime', 'unique_cust_count_sex_known', 'unique_female_count_sex_known',\n",
    "#        'cust_mean', 'cust_median', 'unique_cust_count_all_sex', 'cust_count',\n",
    "#        'unique_cust_count_all_sex_last_month', 'cust_count_last_month',\n",
    "#        'Item_sin_score', 'Item_lin_score',]"
   ]
  },
  {
   "cell_type": "code",
   "execution_count": 33,
   "metadata": {},
   "outputs": [],
   "source": [
    "class Model():\n",
    "    def __init__(self, user_matrix, item_matrix, cold_start_n, cold_start_func=1, rec_func=1):\n",
    "        self.cold_start_n = cold_start_n\n",
    "        self.user_matrix = user_matrix\n",
    "        self.item_matrix = item_matrix\n",
    "        \n",
    "        if cold_start_func == 1:\n",
    "            self.cold_start_func = self.rec_most_unique_pop\n",
    "        elif cold_start_func == 2:\n",
    "            self.cold_start_func = self.rec_most_pop\n",
    "        elif cold_start_func == 3:\n",
    "            self.cold_start_func = self.rec_most_unique_pop_last_month\n",
    "        elif cold_start_func == 4:\n",
    "            self.cold_start_func = self.rec_most_pop_last_month\n",
    "            \n",
    "        if rec_func == 1:\n",
    "            self.rec_func = self.rec_cust_mean_prod_mean\n",
    "        elif rec_func == 2:\n",
    "            self.rec_func = self.rec_Item_sin_score_prod_mean\n",
    "        elif rec_func == 3:\n",
    "            self.rec_func = self.rec_Item_lin_score_prod_mean\n",
    "        \n",
    "    \n",
    "    # since for the cold-start problem we dont have enough information to get any prefernces about item - \n",
    "    # therefore we predict the most popular items despite sexual information\n",
    "    def rec_most_unique_pop_last_month(self, user): \n",
    "        tmp = self.item_matrix[~self.item_matrix.product_id.isin(user.product_ids)].sort_values('unique_cust_count_all_sex_last_month', ascending=False)\n",
    "        return tmp[['product_id', 'unique_cust_count_all_sex_last_month']].values\n",
    "    \n",
    "    def rec_most_pop_last_month(self, user): \n",
    "        tmp = self.item_matrix[~self.item_matrix.product_id.isin(user.product_ids)].sort_values('cust_count_last_month', ascending=False)\n",
    "        return tmp[['product_id', 'cust_count_last_month']].values\n",
    "    \n",
    "    def rec_most_unique_pop(self, user): \n",
    "        tmp = self.item_matrix[~self.item_matrix.product_id.isin(user.product_ids)].sort_values('unique_cust_count_all_sex', ascending=False)\n",
    "        return tmp[['product_id', 'unique_cust_count_all_sex']].values\n",
    "    \n",
    "    def rec_most_pop(self, user): \n",
    "        tmp = self.item_matrix[~self.item_matrix.product_id.isin(user.product_ids)].sort_values('cust_count', ascending=False)\n",
    "        return tmp[['product_id', 'cust_count']].values\n",
    "        \n",
    "    \n",
    "    \n",
    "    # recommend functions based on similarity between user and item\n",
    "    def rec_cust_mean_prod_mean(self, user):\n",
    "        tmp = self.item_matrix[~self.item_matrix.product_id.isin(user.product_ids)].reset_index(drop=True)\n",
    "        tmp['score'] = (1 - abs(tmp.cust_mean.values - user.cust_mean_prod_median)) * np.log(tmp.cust_count.values + 1)\n",
    "        return tmp.sort_values('score', ascending=False)[['product_id', 'score']].values\n",
    "    \n",
    "    def rec_Item_sin_score_prod_mean(self, user):\n",
    "        tmp = self.item_matrix[~self.item_matrix.product_id.isin(user.product_ids)].reset_index(drop=True)\n",
    "        tmp['score'] = (10 - abs(tmp.Item_sin_score.values - user.Item_sin_score_prod_median)) * np.log(tmp.cust_count.values + 1)\n",
    "        return tmp.sort_values('score', ascending=False)[['product_id', 'score']].values\n",
    "    \n",
    "    def rec_Item_lin_score_prod_mean(self, user):\n",
    "        tmp = self.item_matrix[~self.item_matrix.product_id.isin(user.product_ids)].reset_index(drop=True)\n",
    "        tmp['score'] = (10 - abs(tmp.Item_lin_score.values - user.Item_lin_score_prod_median)) * np.log(tmp.cust_count.values + 1)\n",
    "        return tmp.sort_values('score', ascending=False)[['product_id', 'score']].values\n",
    "\n",
    "    \n",
    "        \n",
    "    def recommend(self, user_id, k=10):\n",
    "        try:\n",
    "            user = self.user_matrix.loc[self.user_matrix.customer_id == user_id].iloc[0]\n",
    "            return self.cold_start_func(user)[:k].T\n",
    "            if user.unique_prod_count <= self.cold_start_n: #cold_start\n",
    "#                 print('cold')\n",
    "                return self.cold_start_func(user)[:k].T\n",
    "#                 return self.rec_most_unique_pop(user)[:10]\n",
    "#                 return self.rec_most_pop(user)[:10]\n",
    "            else:\n",
    "#                 print('hot')\n",
    "                return self.rec_func(user)[:k].T\n",
    "#                 return self.rec_cust_mean_prod_mean(user)[:10]\n",
    "#                 return self.rec_Item_sin_score_prod_mean(user)[:10]\n",
    "#                 return self.rec_Item_lin_score_prod_mean(user)[:10]\n",
    "        except Exception as e:\n",
    "            print(e)\n",
    "            user = self.user_matrix.loc[self.user_matrix.customer_id == user_id]\n",
    "            print(user.shape)\n",
    "            \n",
    "            return None\n",
    "#             tmp = self.item_matrix.sort_values('unique_cust_count_all_sex', ascending=False)\n",
    "#             return tmp[['product_id', 'unique_cust_count_all_sex']].values\n",
    "#             tmp = self.item_matrix.sort_values('unique_cust_count_all_sex', ascending=False)\n",
    "#             return tmp[['product_id', 'cust_count']].values\n",
    "            \n"
   ]
  },
  {
   "cell_type": "code",
   "execution_count": 31,
   "metadata": {},
   "outputs": [],
   "source": [
    "new_users_matrix.to_csv('new_users_matrix.csv', sep=';')\n",
    "new_items_matrix.to_csv('new_items_matrix.csv', sep=';')"
   ]
  },
  {
   "cell_type": "code",
   "execution_count": 227,
   "metadata": {
    "collapsed": true
   },
   "outputs": [
    {
     "name": "stdout",
     "output_type": "stream",
     "text": [
      "cold_st 3\n",
      "0 12502\n",
      "3000 12502\n",
      "6000 12502\n",
      "9000 12502\n",
      "12000 12502\n",
      "cold_st: 3 mapk 0.15062897872848277\n",
      "cold_st 4\n",
      "0 12502\n",
      "3000 12502\n",
      "6000 12502\n",
      "9000 12502\n",
      "12000 12502\n",
      "cold_st: 4 mapk 0.15557085469499482\n",
      "cold_st 5\n",
      "0 12502\n",
      "3000 12502\n",
      "6000 12502\n",
      "9000 12502\n",
      "12000 12502\n",
      "cold_st: 5 mapk 0.15918627622754963\n",
      "cold_st 6\n",
      "0 12502\n",
      "3000 12502\n",
      "6000 12502\n",
      "9000 12502\n",
      "12000 12502\n",
      "cold_st: 6 mapk 0.1625053959620429\n",
      "cold_st 7\n",
      "0 12502\n",
      "3000 12502\n",
      "6000 12502\n",
      "9000 12502\n",
      "12000 12502\n",
      "cold_st: 7 mapk 0.16589628199170672\n",
      "cold_st 8\n",
      "0 12502\n",
      "3000 12502\n",
      "6000 12502\n",
      "9000 12502\n",
      "12000 12502\n",
      "cold_st: 8 mapk 0.1683585546947409\n",
      "cold_st 9\n",
      "0 12502\n",
      "3000 12502\n",
      "6000 12502\n",
      "9000 12502\n",
      "12000 12502\n",
      "cold_st: 9 mapk 0.1701476017805405\n",
      "cold_st 10\n",
      "0 12502\n",
      "3000 12502\n",
      "6000 12502\n",
      "9000 12502\n",
      "12000 12502\n",
      "cold_st: 10 mapk 0.17159955994342493\n"
     ]
    }
   ],
   "source": [
    "# # recommendations = []\n",
    "# for cold_st in [3, 4, 5, 6, 7, 8, 9, 10]:\n",
    "#     recommendations = []\n",
    "#     print('cold_st', cold_st)\n",
    "#     mdl = Model(new_users_matrix, new_items_matrix, cold_st)\n",
    "#     for ind, user_id in enumerate(relevant['customer_id'].values):\n",
    "#         if ind%3000 == 0:\n",
    "#             print(ind, relevant.shape[0])\n",
    "#         recommendations.append([x[0] for x in mdl.recommend(user_id)])\n",
    "#     print('cold_st:', cold_st, 'mapk', mapk(relevant['product_ids'], recommendations, k=10))"
   ]
  },
  {
   "cell_type": "markdown",
   "metadata": {},
   "source": [
    "## Предсказания только на основании близости кастомера с продуктами (без холодного старта). Результат - все модели основанные на разных скорах хуже бейзлайна."
   ]
  },
  {
   "cell_type": "code",
   "execution_count": 44,
   "metadata": {},
   "outputs": [
    {
     "name": "stdout",
     "output_type": "stream",
     "text": [
      "cust_mean mapk 0.12503307407322764\n",
      "Item_sin_score mapk 0.06447758834776911\n",
      "Item_lin_score mapk 0.053121913192301924\n"
     ]
    }
   ],
   "source": [
    "# cust_mean\n",
    "recommendations = []\n",
    "mdl = Model(new_users_matrix, new_items_matrix, 0, 1, 1)\n",
    "for ind, user_id in enumerate(relevant['customer_id'].values):\n",
    "    recommendations.append([x[0] for x in mdl.recommend(user_id)])\n",
    "print('cust_mean mapk', mapk(relevant['product_ids'], recommendations, k=10))\n",
    "\n",
    "# Item_sin_score\n",
    "recommendations = []\n",
    "mdl = Model(new_users_matrix, new_items_matrix, 0, 1, 2)\n",
    "for ind, user_id in enumerate(relevant['customer_id'].values):\n",
    "    recommendations.append([x[0] for x in mdl.recommend(user_id)])\n",
    "print('Item_sin_score mapk', mapk(relevant['product_ids'], recommendations, k=10))\n",
    "\n",
    "# Item_lin_score\n",
    "recommendations = []\n",
    "mdl = Model(new_users_matrix, new_items_matrix, 0, 1, 3)\n",
    "for ind, user_id in enumerate(relevant['customer_id'].values):\n",
    "    recommendations.append([x[0] for x in mdl.recommend(user_id)])\n",
    "print('Item_lin_score mapk', mapk(relevant['product_ids'], recommendations, k=10))"
   ]
  },
  {
   "cell_type": "markdown",
   "metadata": {},
   "source": [
    "## Рекомендации только в соответствии с холодным стартом (наиболее популярные продукты за весь период обучающей выборке) оказались лучше по mapK метрике как для мужчин, женщин, так и для кастомеров, чей пол нам неизвестен. Результаты ниже"
   ]
  },
  {
   "cell_type": "code",
   "execution_count": 34,
   "metadata": {
    "scrolled": true
   },
   "outputs": [
    {
     "name": "stdout",
     "output_type": "stream",
     "text": [
      "males mapk 0.13115482792007746\n"
     ]
    }
   ],
   "source": [
    "# prdicting for males\n",
    "recommendations = []\n",
    "cond = new_users_matrix.sex == 0\n",
    "cond1 = relevant.sex == 0\n",
    "mdl = Model(new_users_matrix[cond], new_items_matrix, 3, 1)\n",
    "for ind, user_id in enumerate(relevant[cond1]['customer_id'].values):\n",
    "#     if ind%3000 == 0:\n",
    "#         print(ind, relevant.shape[0])\n",
    "    recommendations.append([x[0] for x in mdl.recommend(user_id)])\n",
    "print('males mapk', mapk(relevant[cond1]['product_ids'], recommendations, k=10))"
   ]
  },
  {
   "cell_type": "code",
   "execution_count": 35,
   "metadata": {
    "scrolled": true
   },
   "outputs": [
    {
     "name": "stdout",
     "output_type": "stream",
     "text": [
      "females mapk 0.105226084821817\n"
     ]
    }
   ],
   "source": [
    "# prdicting for females\n",
    "recommendations = []\n",
    "cond = new_users_matrix.sex == 1\n",
    "cond1 = relevant.sex == 1\n",
    "mdl = Model(new_users_matrix[cond], new_items_matrix, 3, 1)\n",
    "for ind, user_id in enumerate(relevant[cond1]['customer_id'].values):\n",
    "#     if ind%3000 == 0:\n",
    "#         print(ind, relevant.shape[0])\n",
    "    recommendations.append([x[0] for x in mdl.recommend(user_id)])\n",
    "print('females mapk', mapk(relevant[cond1]['product_ids'], recommendations, k=10))"
   ]
  },
  {
   "cell_type": "code",
   "execution_count": 36,
   "metadata": {
    "scrolled": true
   },
   "outputs": [
    {
     "name": "stdout",
     "output_type": "stream",
     "text": [
      "gender unknown mapk 0.25317989784719985\n"
     ]
    }
   ],
   "source": [
    "# prdicting for gender-unknown\n",
    "recommendations = []\n",
    "cond = new_users_matrix.sex == 0.5\n",
    "cond1 = relevant.sex == 0.5\n",
    "mdl = Model(new_users_matrix[cond], new_items_matrix, 3, 1)\n",
    "for ind, user_id in enumerate(relevant[cond1]['customer_id'].values):\n",
    "#     if ind%3000 == 0:\n",
    "#         print(ind, relevant.shape[0])\n",
    "    recommendations.append([x[0] for x in mdl.recommend(user_id)])\n",
    "print('gender unknown mapk', mapk(relevant[cond1]['product_ids'], recommendations, k=10))"
   ]
  },
  {
   "cell_type": "markdown",
   "metadata": {},
   "source": [
    "## Рекомендация наиболее популярных продуктов за последние 30 дней оказались немного лучше, чем предсказание наиболее популярных продуктов за весь период."
   ]
  },
  {
   "cell_type": "code",
   "execution_count": 37,
   "metadata": {
    "scrolled": true
   },
   "outputs": [
    {
     "name": "stdout",
     "output_type": "stream",
     "text": [
      "males mapk 0.13325998298271866\n"
     ]
    }
   ],
   "source": [
    "# prdicting for males\n",
    "recommendations = []\n",
    "cond = new_users_matrix.sex == 0\n",
    "cond1 = relevant.sex == 0\n",
    "mdl = Model(new_users_matrix[cond], new_items_matrix, 3, 3)\n",
    "for ind, user_id in enumerate(relevant[cond1]['customer_id'].values):\n",
    "#     if ind%3000 == 0:\n",
    "#         print(ind, relevant.shape[0])\n",
    "    recommendations.append([x[0] for x in mdl.recommend(user_id)])\n",
    "print('males mapk', mapk(relevant[cond1]['product_ids'], recommendations, k=10))"
   ]
  },
  {
   "cell_type": "code",
   "execution_count": 38,
   "metadata": {
    "scrolled": true
   },
   "outputs": [
    {
     "name": "stdout",
     "output_type": "stream",
     "text": [
      "females mapk 0.10645105405774943\n"
     ]
    }
   ],
   "source": [
    "# prdicting for females\n",
    "recommendations = []\n",
    "cond = new_users_matrix.sex == 1\n",
    "cond1 = relevant.sex == 1\n",
    "mdl = Model(new_users_matrix[cond], new_items_matrix, 3, 3)\n",
    "for ind, user_id in enumerate(relevant[cond1]['customer_id'].values):\n",
    "#     if ind%3000 == 0:\n",
    "#         print(ind, relevant.shape[0])\n",
    "    recommendations.append([x[0] for x in mdl.recommend(user_id)])\n",
    "print('females mapk', mapk(relevant[cond1]['product_ids'], recommendations, k=10))"
   ]
  },
  {
   "cell_type": "code",
   "execution_count": 39,
   "metadata": {
    "scrolled": true
   },
   "outputs": [
    {
     "name": "stdout",
     "output_type": "stream",
     "text": [
      "gender unknown mapk 0.2582339035076862\n"
     ]
    }
   ],
   "source": [
    "# prdicting for gender-unknown\n",
    "recommendations = []\n",
    "cond = new_users_matrix.sex == 0.5\n",
    "cond1 = relevant.sex == 0.5\n",
    "mdl = Model(new_users_matrix[cond], new_items_matrix, 3, 3)\n",
    "for ind, user_id in enumerate(relevant[cond1]['customer_id'].values):\n",
    "#     if ind%3000 == 0:\n",
    "#         print(ind, relevant.shape[0])\n",
    "    recommendations.append([x[0] for x in mdl.recommend(user_id)])\n",
    "print('gender unknown mapk', mapk(relevant[cond1]['product_ids'], recommendations, k=10))"
   ]
  },
  {
   "cell_type": "markdown",
   "metadata": {},
   "source": [
    "## Результаты по целой тестовой выборке для моделей холодного старта"
   ]
  },
  {
   "cell_type": "code",
   "execution_count": 40,
   "metadata": {
    "scrolled": true
   },
   "outputs": [
    {
     "name": "stdout",
     "output_type": "stream",
     "text": [
      "cold_start_func (most popular items in training dataset) mapk 0.17688852323310808\n"
     ]
    }
   ],
   "source": [
    "# prdicting the most popular items a customer never bought before according to training dataset \n",
    "recommendations = []\n",
    "mdl = Model(new_users_matrix, new_items_matrix, 1, 1)#, 2)\n",
    "for ind, user_id in enumerate(relevant['customer_id'].values):\n",
    "#     if ind%3000 == 0:\n",
    "#         print(ind, relevant.shape[0])\n",
    "    recommendations.append([x[0] for x in mdl.recommend(user_id)])\n",
    "print('cold_start_func (most popular items in training dataset) mapk', mapk(relevant['product_ids'], recommendations, k=10))\n"
   ]
  },
  {
   "cell_type": "code",
   "execution_count": 41,
   "metadata": {
    "scrolled": true
   },
   "outputs": [
    {
     "name": "stdout",
     "output_type": "stream",
     "text": [
      "cold_start_func (most popular items in training dataset in the last month) mapk 0.17999526424978354\n"
     ]
    }
   ],
   "source": [
    "# prdicting the most popular items on the last month purchases a customer never bought before according to training dataset \n",
    "recommendations = []\n",
    "mdl = Model(new_users_matrix, new_items_matrix, 1, 3)\n",
    "for ind, user_id in enumerate(relevant['customer_id'].values):\n",
    "#     if ind%3000 == 0:\n",
    "#         print(ind, relevant.shape[0])\n",
    "    recommendations.append([x[0] for x in mdl.recommend(user_id)])\n",
    "print('cold_start_func (most popular items in training dataset in the last month) mapk', mapk(relevant['product_ids'], recommendations, k=10))"
   ]
  },
  {
   "cell_type": "markdown",
   "metadata": {},
   "source": [
    "## Попытаемся объединить модель, получившуюся в результате Часть 1 с лучшей моделью, на основе холодного старта и подобрать такое N, при котором получившийся ансамбль моделей дает лучшее качество на тестовой выборке."
   ]
  },
  {
   "cell_type": "code",
   "execution_count": 9,
   "metadata": {},
   "outputs": [],
   "source": [
    "# optional\n",
    "new_users_matrix = pd.read_csv('new_users_matrix.csv', sep=';')\n",
    "new_users_matrix.product_ids = new_users_matrix.product_ids.apply(lambda x: np.fromstring(x[1:-1], dtype=int, sep=' '))\n",
    "\n",
    "new_items_matrix = pd.read_csv('new_items_matrix.csv', sep=';')"
   ]
  },
  {
   "cell_type": "code",
   "execution_count": 15,
   "metadata": {},
   "outputs": [],
   "source": [
    "relevant = relevant.merge(new_users_matrix[['customer_id', 'unique_prod_count']], on='customer_id', how='left')"
   ]
  },
  {
   "cell_type": "code",
   "execution_count": 16,
   "metadata": {},
   "outputs": [
    {
     "name": "stdout",
     "output_type": "stream",
     "text": [
      "1\n",
      "sparsity: 99.68410156354885\n"
     ]
    },
    {
     "name": "stderr",
     "output_type": "stream",
     "text": [
      "GPU training requires factor size to be a multiple of 32. Increasing factors from 16 to 32.\n",
      "WARNING:root:OpenBLAS detected. Its highly recommend to set the environment variable 'export OPENBLAS_NUM_THREADS=1' to disable its internal multithreading\n"
     ]
    },
    {
     "name": "stdout",
     "output_type": "stream",
     "text": [
      "Fit the model...\n"
     ]
    },
    {
     "data": {
      "application/vnd.jupyter.widget-view+json": {
       "model_id": "",
       "version_major": 2,
       "version_minor": 0
      },
      "text/plain": [
       "HBox(children=(IntProgress(value=0), HTML(value='')))"
      ]
     },
     "metadata": {},
     "output_type": "display_data"
    },
    {
     "name": "stdout",
     "output_type": "stream",
     "text": [
      "\n",
      "N: 1 mapk: 0.17024726892777525\n",
      "2\n",
      "sparsity: 99.59411872437863\n"
     ]
    },
    {
     "name": "stderr",
     "output_type": "stream",
     "text": [
      "WARNING:implicit:GPU training requires factor size to be a multiple of 32. Increasing factors from 16 to 32.\n"
     ]
    },
    {
     "name": "stdout",
     "output_type": "stream",
     "text": [
      "Fit the model...\n"
     ]
    },
    {
     "data": {
      "application/vnd.jupyter.widget-view+json": {
       "model_id": "",
       "version_major": 2,
       "version_minor": 0
      },
      "text/plain": [
       "HBox(children=(IntProgress(value=0), HTML(value='')))"
      ]
     },
     "metadata": {},
     "output_type": "display_data"
    },
    {
     "name": "stdout",
     "output_type": "stream",
     "text": [
      "\n",
      "N: 2 mapk: 0.15175383156885877\n",
      "3\n",
      "sparsity: 99.5009507634391\n"
     ]
    },
    {
     "name": "stderr",
     "output_type": "stream",
     "text": [
      "WARNING:implicit:GPU training requires factor size to be a multiple of 32. Increasing factors from 16 to 32.\n"
     ]
    },
    {
     "name": "stdout",
     "output_type": "stream",
     "text": [
      "Fit the model...\n"
     ]
    },
    {
     "data": {
      "application/vnd.jupyter.widget-view+json": {
       "model_id": "",
       "version_major": 2,
       "version_minor": 0
      },
      "text/plain": [
       "HBox(children=(IntProgress(value=0), HTML(value='')))"
      ]
     },
     "metadata": {},
     "output_type": "display_data"
    },
    {
     "name": "stdout",
     "output_type": "stream",
     "text": [
      "\n",
      "N: 3 mapk: 0.15995634906024006\n",
      "4\n",
      "sparsity: 99.41440804453991\n"
     ]
    },
    {
     "name": "stderr",
     "output_type": "stream",
     "text": [
      "WARNING:implicit:GPU training requires factor size to be a multiple of 32. Increasing factors from 16 to 32.\n"
     ]
    },
    {
     "name": "stdout",
     "output_type": "stream",
     "text": [
      "Fit the model...\n"
     ]
    },
    {
     "data": {
      "application/vnd.jupyter.widget-view+json": {
       "model_id": "",
       "version_major": 2,
       "version_minor": 0
      },
      "text/plain": [
       "HBox(children=(IntProgress(value=0), HTML(value='')))"
      ]
     },
     "metadata": {},
     "output_type": "display_data"
    },
    {
     "name": "stdout",
     "output_type": "stream",
     "text": [
      "\n",
      "N: 4 mapk: 0.16331135643895361\n",
      "5\n",
      "sparsity: 99.32990660695845\n"
     ]
    },
    {
     "name": "stderr",
     "output_type": "stream",
     "text": [
      "WARNING:implicit:GPU training requires factor size to be a multiple of 32. Increasing factors from 16 to 32.\n"
     ]
    },
    {
     "name": "stdout",
     "output_type": "stream",
     "text": [
      "Fit the model...\n"
     ]
    },
    {
     "data": {
      "application/vnd.jupyter.widget-view+json": {
       "model_id": "",
       "version_major": 2,
       "version_minor": 0
      },
      "text/plain": [
       "HBox(children=(IntProgress(value=0), HTML(value='')))"
      ]
     },
     "metadata": {},
     "output_type": "display_data"
    },
    {
     "name": "stdout",
     "output_type": "stream",
     "text": [
      "\n",
      "N: 5 mapk: 0.16564511333515433\n",
      "6\n",
      "sparsity: 99.23263915658006\n"
     ]
    },
    {
     "name": "stderr",
     "output_type": "stream",
     "text": [
      "WARNING:implicit:GPU training requires factor size to be a multiple of 32. Increasing factors from 16 to 32.\n"
     ]
    },
    {
     "name": "stdout",
     "output_type": "stream",
     "text": [
      "Fit the model...\n"
     ]
    },
    {
     "data": {
      "application/vnd.jupyter.widget-view+json": {
       "model_id": "",
       "version_major": 2,
       "version_minor": 0
      },
      "text/plain": [
       "HBox(children=(IntProgress(value=0), HTML(value='')))"
      ]
     },
     "metadata": {},
     "output_type": "display_data"
    },
    {
     "name": "stdout",
     "output_type": "stream",
     "text": [
      "\n",
      "N: 6 mapk: 0.16833826861070839\n",
      "7\n",
      "sparsity: 99.13324119021824\n"
     ]
    },
    {
     "name": "stderr",
     "output_type": "stream",
     "text": [
      "WARNING:implicit:GPU training requires factor size to be a multiple of 32. Increasing factors from 16 to 32.\n"
     ]
    },
    {
     "name": "stdout",
     "output_type": "stream",
     "text": [
      "Fit the model...\n"
     ]
    },
    {
     "data": {
      "application/vnd.jupyter.widget-view+json": {
       "model_id": "",
       "version_major": 2,
       "version_minor": 0
      },
      "text/plain": [
       "HBox(children=(IntProgress(value=0), HTML(value='')))"
      ]
     },
     "metadata": {},
     "output_type": "display_data"
    },
    {
     "name": "stdout",
     "output_type": "stream",
     "text": [
      "\n",
      "N: 7 mapk: 0.17052537246597863\n",
      "8\n",
      "sparsity: 99.03625601795326\n"
     ]
    },
    {
     "name": "stderr",
     "output_type": "stream",
     "text": [
      "WARNING:implicit:GPU training requires factor size to be a multiple of 32. Increasing factors from 16 to 32.\n"
     ]
    },
    {
     "name": "stdout",
     "output_type": "stream",
     "text": [
      "Fit the model...\n"
     ]
    },
    {
     "data": {
      "application/vnd.jupyter.widget-view+json": {
       "model_id": "",
       "version_major": 2,
       "version_minor": 0
      },
      "text/plain": [
       "HBox(children=(IntProgress(value=0), HTML(value='')))"
      ]
     },
     "metadata": {},
     "output_type": "display_data"
    },
    {
     "name": "stdout",
     "output_type": "stream",
     "text": [
      "\n",
      "N: 8 mapk: 0.173556764125097\n",
      "9\n",
      "sparsity: 98.94031174443694\n"
     ]
    },
    {
     "name": "stderr",
     "output_type": "stream",
     "text": [
      "WARNING:implicit:GPU training requires factor size to be a multiple of 32. Increasing factors from 16 to 32.\n"
     ]
    },
    {
     "name": "stdout",
     "output_type": "stream",
     "text": [
      "Fit the model...\n"
     ]
    },
    {
     "data": {
      "application/vnd.jupyter.widget-view+json": {
       "model_id": "",
       "version_major": 2,
       "version_minor": 0
      },
      "text/plain": [
       "HBox(children=(IntProgress(value=0), HTML(value='')))"
      ]
     },
     "metadata": {},
     "output_type": "display_data"
    },
    {
     "name": "stdout",
     "output_type": "stream",
     "text": [
      "\n",
      "N: 9 mapk: 0.1753130128053283\n",
      "10\n",
      "sparsity: 98.84039190182102\n"
     ]
    },
    {
     "name": "stderr",
     "output_type": "stream",
     "text": [
      "WARNING:implicit:GPU training requires factor size to be a multiple of 32. Increasing factors from 16 to 32.\n"
     ]
    },
    {
     "name": "stdout",
     "output_type": "stream",
     "text": [
      "Fit the model...\n"
     ]
    },
    {
     "data": {
      "application/vnd.jupyter.widget-view+json": {
       "model_id": "",
       "version_major": 2,
       "version_minor": 0
      },
      "text/plain": [
       "HBox(children=(IntProgress(value=0), HTML(value='')))"
      ]
     },
     "metadata": {},
     "output_type": "display_data"
    },
    {
     "name": "stdout",
     "output_type": "stream",
     "text": [
      "\n",
      "N: 10 mapk: 0.1763062123716038\n",
      "11\n",
      "sparsity: 98.74163272765246\n"
     ]
    },
    {
     "name": "stderr",
     "output_type": "stream",
     "text": [
      "WARNING:implicit:GPU training requires factor size to be a multiple of 32. Increasing factors from 16 to 32.\n"
     ]
    },
    {
     "name": "stdout",
     "output_type": "stream",
     "text": [
      "Fit the model...\n"
     ]
    },
    {
     "data": {
      "application/vnd.jupyter.widget-view+json": {
       "model_id": "",
       "version_major": 2,
       "version_minor": 0
      },
      "text/plain": [
       "HBox(children=(IntProgress(value=0), HTML(value='')))"
      ]
     },
     "metadata": {},
     "output_type": "display_data"
    },
    {
     "name": "stdout",
     "output_type": "stream",
     "text": [
      "\n",
      "N: 11 mapk: 0.17721444701122954\n"
     ]
    }
   ],
   "source": [
    "mdl = Model(new_users_matrix, new_items_matrix, 1, 3)#, 2)\n",
    "for i in range(1, 12):\n",
    "    cond = purchases_train.unique_prod_count > i\n",
    "    # purchases_train[purchases_train.unique_prod_count > N]\n",
    "    \n",
    "    print(i)\n",
    "    als_combined = Als(purchases_train, cond)\n",
    "    als_combined.fit()\n",
    "    \n",
    "    recommendations = []\n",
    "    for ind, user in relevant.iterrows():\n",
    "        user = user\n",
    "        if user.unique_prod_count <= i:\n",
    "            recommendations.append([x[0] for x in mdl.recommend(user.customer_id)])\n",
    "        else:\n",
    "            recommendations.append([x[0] for x in als_combined.recommend(user.customer_id)])\n",
    "    print('N:', i, 'mapk:', mapk(relevant['product_ids'], recommendations, k=10))\n",
    "\n",
    "    del als_combined\n",
    "    gc.collect()"
   ]
  },
  {
   "cell_type": "code",
   "execution_count": 22,
   "metadata": {
    "collapsed": true
   },
   "outputs": [
    {
     "name": "stdout",
     "output_type": "stream",
     "text": [
      "1\n",
      "sparsity: 99.68410156354885\n",
      "Fit the model...\n"
     ]
    },
    {
     "data": {
      "application/vnd.jupyter.widget-view+json": {
       "model_id": "1c117cf41f4049748158e20460a471fd",
       "version_major": 2,
       "version_minor": 0
      },
      "text/plain": [
       "HBox(children=(IntProgress(value=0), HTML(value='')))"
      ]
     },
     "metadata": {},
     "output_type": "display_data"
    },
    {
     "name": "stdout",
     "output_type": "stream",
     "text": [
      "\n",
      "N: 1 mapk: 0.14480567266126151\n",
      "2\n",
      "sparsity: 99.59411872437863\n",
      "Fit the model...\n"
     ]
    },
    {
     "ename": "KeyboardInterrupt",
     "evalue": "",
     "output_type": "error",
     "traceback": [
      "\u001b[1;31m---------------------------------------------------------------------------\u001b[0m",
      "\u001b[1;31mKeyboardInterrupt\u001b[0m                         Traceback (most recent call last)",
      "\u001b[1;32m<ipython-input-22-9dcc3d59416b>\u001b[0m in \u001b[0;36m<module>\u001b[1;34m()\u001b[0m\n\u001b[0;32m      6\u001b[0m     \u001b[0mprint\u001b[0m\u001b[1;33m(\u001b[0m\u001b[0mi\u001b[0m\u001b[1;33m)\u001b[0m\u001b[1;33m\u001b[0m\u001b[0m\n\u001b[0;32m      7\u001b[0m     \u001b[0mals_combined\u001b[0m \u001b[1;33m=\u001b[0m \u001b[0mAls\u001b[0m\u001b[1;33m(\u001b[0m\u001b[0mpurchases_train\u001b[0m\u001b[1;33m,\u001b[0m \u001b[0mcond\u001b[0m\u001b[1;33m)\u001b[0m\u001b[1;33m\u001b[0m\u001b[0m\n\u001b[1;32m----> 8\u001b[1;33m     \u001b[0mals_combined\u001b[0m\u001b[1;33m.\u001b[0m\u001b[0mfit\u001b[0m\u001b[1;33m(\u001b[0m\u001b[1;33m{\u001b[0m\u001b[1;34m'factors'\u001b[0m\u001b[1;33m:\u001b[0m \u001b[1;36m32\u001b[0m\u001b[1;33m,\u001b[0m \u001b[1;34m'regularization'\u001b[0m\u001b[1;33m:\u001b[0m \u001b[1;36m0.01\u001b[0m\u001b[1;33m,\u001b[0m \u001b[1;34m'iterations'\u001b[0m\u001b[1;33m:\u001b[0m \u001b[1;36m100\u001b[0m\u001b[1;33m}\u001b[0m\u001b[1;33m)\u001b[0m\u001b[1;33m\u001b[0m\u001b[0m\n\u001b[0m\u001b[0;32m      9\u001b[0m \u001b[1;33m\u001b[0m\u001b[0m\n\u001b[0;32m     10\u001b[0m     \u001b[0mrecommendations\u001b[0m \u001b[1;33m=\u001b[0m \u001b[1;33m[\u001b[0m\u001b[1;33m]\u001b[0m\u001b[1;33m\u001b[0m\u001b[0m\n",
      "\u001b[1;32m<ipython-input-21-9c1a6f92e979>\u001b[0m in \u001b[0;36mfit\u001b[1;34m(self, params)\u001b[0m\n\u001b[0;32m     22\u001b[0m         \u001b[0mnp\u001b[0m\u001b[1;33m.\u001b[0m\u001b[0mrandom\u001b[0m\u001b[1;33m.\u001b[0m\u001b[0mseed\u001b[0m\u001b[1;33m(\u001b[0m\u001b[1;36m42\u001b[0m\u001b[1;33m)\u001b[0m\u001b[1;33m\u001b[0m\u001b[0m\n\u001b[0;32m     23\u001b[0m         \u001b[0mprint\u001b[0m\u001b[1;33m(\u001b[0m\u001b[1;34m'Fit the model...'\u001b[0m\u001b[1;33m)\u001b[0m\u001b[1;33m\u001b[0m\u001b[0m\n\u001b[1;32m---> 24\u001b[1;33m         \u001b[0mself\u001b[0m\u001b[1;33m.\u001b[0m\u001b[0mmodel\u001b[0m\u001b[1;33m.\u001b[0m\u001b[0mfit\u001b[0m\u001b[1;33m(\u001b[0m\u001b[0mitem_users\u001b[0m\u001b[1;33m=\u001b[0m\u001b[0mself\u001b[0m\u001b[1;33m.\u001b[0m\u001b[0mitem_users\u001b[0m\u001b[1;33m)\u001b[0m\u001b[1;33m\u001b[0m\u001b[0m\n\u001b[0m\u001b[0;32m     25\u001b[0m \u001b[1;33m\u001b[0m\u001b[0m\n\u001b[0;32m     26\u001b[0m     \u001b[1;32mdef\u001b[0m \u001b[0msave_model\u001b[0m\u001b[1;33m(\u001b[0m\u001b[0mself\u001b[0m\u001b[1;33m,\u001b[0m \u001b[0mfilename\u001b[0m\u001b[1;33m)\u001b[0m\u001b[1;33m:\u001b[0m\u001b[1;33m\u001b[0m\u001b[0m\n",
      "\u001b[1;32mC:\\Python36\\lib\\site-packages\\implicit\\als.py\u001b[0m in \u001b[0;36mfit\u001b[1;34m(self, item_users, show_progress)\u001b[0m\n\u001b[0;32m    166\u001b[0m         \u001b[1;31m# Initialize the variables randomly if they haven't already been set\u001b[0m\u001b[1;33m\u001b[0m\u001b[1;33m\u001b[0m\u001b[0m\n\u001b[0;32m    167\u001b[0m         \u001b[1;32mif\u001b[0m \u001b[0mself\u001b[0m\u001b[1;33m.\u001b[0m\u001b[0muser_factors\u001b[0m \u001b[1;32mis\u001b[0m \u001b[1;32mNone\u001b[0m\u001b[1;33m:\u001b[0m\u001b[1;33m\u001b[0m\u001b[0m\n\u001b[1;32m--> 168\u001b[1;33m             \u001b[0mself\u001b[0m\u001b[1;33m.\u001b[0m\u001b[0muser_factors\u001b[0m \u001b[1;33m=\u001b[0m \u001b[0mnp\u001b[0m\u001b[1;33m.\u001b[0m\u001b[0mrandom\u001b[0m\u001b[1;33m.\u001b[0m\u001b[0mrand\u001b[0m\u001b[1;33m(\u001b[0m\u001b[0musers\u001b[0m\u001b[1;33m,\u001b[0m \u001b[0mself\u001b[0m\u001b[1;33m.\u001b[0m\u001b[0mfactors\u001b[0m\u001b[1;33m)\u001b[0m\u001b[1;33m.\u001b[0m\u001b[0mastype\u001b[0m\u001b[1;33m(\u001b[0m\u001b[0mself\u001b[0m\u001b[1;33m.\u001b[0m\u001b[0mdtype\u001b[0m\u001b[1;33m)\u001b[0m \u001b[1;33m*\u001b[0m \u001b[1;36m0.01\u001b[0m\u001b[1;33m\u001b[0m\u001b[0m\n\u001b[0m\u001b[0;32m    169\u001b[0m         \u001b[1;32mif\u001b[0m \u001b[0mself\u001b[0m\u001b[1;33m.\u001b[0m\u001b[0mitem_factors\u001b[0m \u001b[1;32mis\u001b[0m \u001b[1;32mNone\u001b[0m\u001b[1;33m:\u001b[0m\u001b[1;33m\u001b[0m\u001b[0m\n\u001b[0;32m    170\u001b[0m             \u001b[0mself\u001b[0m\u001b[1;33m.\u001b[0m\u001b[0mitem_factors\u001b[0m \u001b[1;33m=\u001b[0m \u001b[0mnp\u001b[0m\u001b[1;33m.\u001b[0m\u001b[0mrandom\u001b[0m\u001b[1;33m.\u001b[0m\u001b[0mrand\u001b[0m\u001b[1;33m(\u001b[0m\u001b[0mitems\u001b[0m\u001b[1;33m,\u001b[0m \u001b[0mself\u001b[0m\u001b[1;33m.\u001b[0m\u001b[0mfactors\u001b[0m\u001b[1;33m)\u001b[0m\u001b[1;33m.\u001b[0m\u001b[0mastype\u001b[0m\u001b[1;33m(\u001b[0m\u001b[0mself\u001b[0m\u001b[1;33m.\u001b[0m\u001b[0mdtype\u001b[0m\u001b[1;33m)\u001b[0m \u001b[1;33m*\u001b[0m \u001b[1;36m0.01\u001b[0m\u001b[1;33m\u001b[0m\u001b[0m\n",
      "\u001b[1;31mKeyboardInterrupt\u001b[0m: "
     ]
    }
   ],
   "source": [
    "mdl = Model(new_users_matrix, new_items_matrix, 1, 3)#, 2)\n",
    "for i in range(1, 12):\n",
    "    cond = purchases_train.unique_prod_count > i\n",
    "    # purchases_train[purchases_train.unique_prod_count > N]\n",
    "    \n",
    "    print(i)\n",
    "    als_combined = Als(purchases_train, cond)\n",
    "    als_combined.fit({'factors': 32, 'regularization': 0.01, 'iterations': 100})\n",
    "    \n",
    "    recommendations = []\n",
    "    cond1 = relevant.unique_prod_count > i\n",
    "    for ind, user in relevant[cond1].iterrows():\n",
    "        user = user\n",
    "#         if user.unique_prod_count <= i:\n",
    "#             recommendations.append([x[0] for x in mdl.recommend(user.customer_id)])\n",
    "#         else:\n",
    "        recommendations.append([x[0] for x in als_combined.recommend(user.customer_id)])\n",
    "    print('N:', i, 'mapk:', mapk(relevant[cond1]['product_ids'], recommendations, k=10))\n",
    "\n",
    "    del als_combined\n",
    "    gc.collect()"
   ]
  },
  {
   "cell_type": "markdown",
   "metadata": {},
   "source": [
    "## Объединение результатов не дает прироста по сравнению с лучшей моделью холодного старта."
   ]
  },
  {
   "cell_type": "code",
   "execution_count": null,
   "metadata": {},
   "outputs": [],
   "source": [
    "new_users_matrix = pd.read_csv('new_users_matrix.csv', sep=';')\n",
    "new_users_matrix.product_ids = new_users_matrix.product_ids.apply(lambda x: np.fromstring(x[1:-1], dtype=int, sep=' '))\n",
    "\n",
    "new_items_matrix = pd.read_csv('new_items_matrix.csv', sep=';')\n"
   ]
  },
  {
   "cell_type": "code",
   "execution_count": null,
   "metadata": {},
   "outputs": [],
   "source": []
  },
  {
   "cell_type": "code",
   "execution_count": null,
   "metadata": {},
   "outputs": [],
   "source": []
  },
  {
   "cell_type": "code",
   "execution_count": null,
   "metadata": {},
   "outputs": [],
   "source": []
  },
  {
   "cell_type": "markdown",
   "metadata": {},
   "source": [
    "# Часть 3: Предсказать пол кастомеров, чей пол нам неизвестен и опять попробовать построить рекомендательную модель из Части 2 предварительно посчитав cust_mean для всех кастомеров. "
   ]
  },
  {
   "cell_type": "markdown",
   "metadata": {},
   "source": [
    "## Часть 3.1: Предсказание пола с помощью логистической регресии + BoW"
   ]
  },
  {
   "cell_type": "code",
   "execution_count": 35,
   "metadata": {},
   "outputs": [],
   "source": [
    "from sklearn.feature_extraction import DictVectorizer"
   ]
  },
  {
   "cell_type": "code",
   "execution_count": 36,
   "metadata": {},
   "outputs": [],
   "source": [
    "cond = purchases_train.sex != 0.5\n",
    "tmp = purchases_train[cond].drop_duplicates(['customer_id', 'product_id']).groupby('customer_id').apply(lambda x: dict(zip(x.product_id.values, np.ones(shape=(x.shape[0],) )))).values\n",
    "y = purchases_train[cond].groupby('customer_id')['sex'].first().values\n"
   ]
  },
  {
   "cell_type": "code",
   "execution_count": 37,
   "metadata": {},
   "outputs": [
    {
     "data": {
      "text/plain": [
       "(31943, 1724)"
      ]
     },
     "execution_count": 37,
     "metadata": {},
     "output_type": "execute_result"
    }
   ],
   "source": [
    "dv = DictVectorizer()\n",
    "vls = dv.fit_transform(tmp)\n",
    "vls.shape"
   ]
  },
  {
   "cell_type": "code",
   "execution_count": 38,
   "metadata": {},
   "outputs": [],
   "source": [
    "test_size = 0.2\n",
    "random_state = 632\n",
    "x_train, x_test, y_train, y_test = train_test_split(vls, y, test_size=test_size, random_state=random_state)\n"
   ]
  },
  {
   "cell_type": "code",
   "execution_count": 39,
   "metadata": {},
   "outputs": [
    {
     "name": "stderr",
     "output_type": "stream",
     "text": [
      "C:\\Python36\\lib\\site-packages\\sklearn\\linear_model\\logistic.py:432: FutureWarning: Default solver will be changed to 'lbfgs' in 0.22. Specify a solver to silence this warning.\n",
      "  FutureWarning)\n"
     ]
    },
    {
     "data": {
      "text/plain": [
       "LogisticRegression(C=1, class_weight=None, dual=False, fit_intercept=True,\n",
       "                   intercept_scaling=1, l1_ratio=None, max_iter=100,\n",
       "                   multi_class='warn', n_jobs=None, penalty='l2',\n",
       "                   random_state=None, solver='warn', tol=0.0001, verbose=0,\n",
       "                   warm_start=False)"
      ]
     },
     "execution_count": 39,
     "metadata": {},
     "output_type": "execute_result"
    }
   ],
   "source": [
    "model = LogisticRegression(C=1)\n",
    "model.fit(x_train, y_train)"
   ]
  },
  {
   "cell_type": "code",
   "execution_count": 40,
   "metadata": {},
   "outputs": [
    {
     "name": "stdout",
     "output_type": "stream",
     "text": [
      "VALIDATION:\n",
      "TRAIN ROC_AUC: 0.767932 PRC_AUC: 0.890895 PRC_AUC_SCORE: 0.890784 ACCURACY: 0.77393\n",
      "TEST ROC_AUC: 0.692245 PRC_AUC: 0.847714 PRC_AUC_SCORE: 0.847794 ACCURACY: 0.753483\n"
     ]
    }
   ],
   "source": [
    "print ('VALIDATION:')\n",
    "train_pred = model.predict_proba(x_train).T[1]\n",
    "test_pred = model.predict_proba(x_test).T[1]\n",
    "\n",
    "train_prc_auc_score = average_precision_score(y_train, train_pred)\n",
    "test_prc_auc_score = average_precision_score(y_test, test_pred)\n",
    "\n",
    "train_precision, train_recall, thres = precision_recall_curve(y_train, train_pred)\n",
    "train_prc_auc = auc(train_recall, train_precision)\n",
    "\n",
    "test_precision, test_recall, thres = precision_recall_curve(y_test, test_pred)\n",
    "test_prc_auc = auc(test_recall, test_precision)\n",
    "\n",
    "print ('TRAIN ROC_AUC:', round(roc_auc_score(y_train, train_pred), 6), 'PRC_AUC:', round(train_prc_auc, 6), 'PRC_AUC_SCORE:', round(train_prc_auc_score, 6), 'ACCURACY:', round(accuracy_score(y_train, np.round(train_pred)), 6))\n",
    "print ('TEST ROC_AUC:', round(roc_auc_score(y_test, test_pred), 6), 'PRC_AUC:', round(test_prc_auc, 6), 'PRC_AUC_SCORE:', round(test_prc_auc_score, 6), 'ACCURACY:', round(accuracy_score(y_test, np.round(test_pred)), 6))"
   ]
  },
  {
   "cell_type": "markdown",
   "metadata": {},
   "source": [
    "### Исходя из результатов, я делаю вывод, что модель немного переобучилась и если при ее использовании при предсказании пола встретятся кастомеры, которые не купили ни 1 продукт из обучающейся выборки, то модель будет предсказывать все время либо женщину, либо мужчину (в зависимости от параметра байеса). Поэтому эту модель для предсказания в дальнейшем не буду использовать."
   ]
  },
  {
   "cell_type": "code",
   "execution_count": null,
   "metadata": {},
   "outputs": [],
   "source": []
  },
  {
   "cell_type": "code",
   "execution_count": null,
   "metadata": {},
   "outputs": [],
   "source": []
  },
  {
   "cell_type": "code",
   "execution_count": null,
   "metadata": {},
   "outputs": [],
   "source": []
  },
  {
   "cell_type": "markdown",
   "metadata": {},
   "source": [
    "## Часть 3.2: предсказание пола, где в качестве фичей выступают распределение по cust_mean, Item_sin_score, Item_lin_score"
   ]
  },
  {
   "cell_type": "code",
   "execution_count": 41,
   "metadata": {},
   "outputs": [
    {
     "data": {
      "text/html": [
       "<div>\n",
       "<style scoped>\n",
       "    .dataframe tbody tr th:only-of-type {\n",
       "        vertical-align: middle;\n",
       "    }\n",
       "\n",
       "    .dataframe tbody tr th {\n",
       "        vertical-align: top;\n",
       "    }\n",
       "\n",
       "    .dataframe thead th {\n",
       "        text-align: right;\n",
       "    }\n",
       "</style>\n",
       "<table border=\"1\" class=\"dataframe\">\n",
       "  <thead>\n",
       "    <tr style=\"text-align: right;\">\n",
       "      <th></th>\n",
       "      <th>customer_id</th>\n",
       "      <th>sex</th>\n",
       "      <th>cust_mean_perc_0</th>\n",
       "      <th>cust_mean_perc_10</th>\n",
       "      <th>cust_mean_perc_20</th>\n",
       "      <th>cust_mean_perc_30</th>\n",
       "      <th>cust_mean_perc_40</th>\n",
       "      <th>cust_mean_perc_50</th>\n",
       "      <th>cust_mean_perc_60</th>\n",
       "      <th>cust_mean_perc_70</th>\n",
       "      <th>cust_mean_perc_80</th>\n",
       "      <th>cust_mean_perc_90</th>\n",
       "      <th>cust_mean_perc_100</th>\n",
       "      <th>cnt</th>\n",
       "      <th>Item_sin_score_perc_0</th>\n",
       "      <th>Item_sin_score_perc_10</th>\n",
       "      <th>Item_sin_score_perc_20</th>\n",
       "      <th>Item_sin_score_perc_30</th>\n",
       "      <th>Item_sin_score_perc_40</th>\n",
       "      <th>Item_sin_score_perc_50</th>\n",
       "      <th>Item_sin_score_perc_60</th>\n",
       "      <th>Item_sin_score_perc_70</th>\n",
       "      <th>Item_sin_score_perc_80</th>\n",
       "      <th>Item_sin_score_perc_90</th>\n",
       "      <th>Item_sin_score_perc_100</th>\n",
       "      <th>Item_lin_score_perc_0</th>\n",
       "      <th>Item_lin_score_perc_10</th>\n",
       "      <th>Item_lin_score_perc_20</th>\n",
       "      <th>Item_lin_score_perc_30</th>\n",
       "      <th>Item_lin_score_perc_40</th>\n",
       "      <th>Item_lin_score_perc_50</th>\n",
       "      <th>Item_lin_score_perc_60</th>\n",
       "      <th>Item_lin_score_perc_70</th>\n",
       "      <th>Item_lin_score_perc_80</th>\n",
       "      <th>Item_lin_score_perc_90</th>\n",
       "      <th>Item_lin_score_perc_100</th>\n",
       "    </tr>\n",
       "  </thead>\n",
       "  <tbody>\n",
       "    <tr>\n",
       "      <th>0</th>\n",
       "      <td>107</td>\n",
       "      <td>0.5</td>\n",
       "      <td>0.61893</td>\n",
       "      <td>0.632878</td>\n",
       "      <td>0.646826</td>\n",
       "      <td>0.660774</td>\n",
       "      <td>0.674722</td>\n",
       "      <td>0.68867</td>\n",
       "      <td>0.702618</td>\n",
       "      <td>0.716566</td>\n",
       "      <td>0.730514</td>\n",
       "      <td>0.744462</td>\n",
       "      <td>0.75841</td>\n",
       "      <td>2.0</td>\n",
       "      <td>2.44168</td>\n",
       "      <td>2.740737</td>\n",
       "      <td>3.039794</td>\n",
       "      <td>3.338851</td>\n",
       "      <td>3.637908</td>\n",
       "      <td>3.936965</td>\n",
       "      <td>4.236022</td>\n",
       "      <td>4.535079</td>\n",
       "      <td>4.834136</td>\n",
       "      <td>5.133193</td>\n",
       "      <td>5.43225</td>\n",
       "      <td>1.59119</td>\n",
       "      <td>1.819023</td>\n",
       "      <td>2.046856</td>\n",
       "      <td>2.274689</td>\n",
       "      <td>2.502522</td>\n",
       "      <td>2.730355</td>\n",
       "      <td>2.958188</td>\n",
       "      <td>3.186021</td>\n",
       "      <td>3.413854</td>\n",
       "      <td>3.641687</td>\n",
       "      <td>3.86952</td>\n",
       "    </tr>\n",
       "    <tr>\n",
       "      <th>1</th>\n",
       "      <td>351</td>\n",
       "      <td>0.5</td>\n",
       "      <td>0.75556</td>\n",
       "      <td>0.755560</td>\n",
       "      <td>0.755560</td>\n",
       "      <td>0.755560</td>\n",
       "      <td>0.755560</td>\n",
       "      <td>0.75556</td>\n",
       "      <td>0.755560</td>\n",
       "      <td>0.755560</td>\n",
       "      <td>0.755560</td>\n",
       "      <td>0.755560</td>\n",
       "      <td>0.75556</td>\n",
       "      <td>1.0</td>\n",
       "      <td>4.02988</td>\n",
       "      <td>4.029880</td>\n",
       "      <td>4.029880</td>\n",
       "      <td>4.029880</td>\n",
       "      <td>4.029880</td>\n",
       "      <td>4.029880</td>\n",
       "      <td>4.029880</td>\n",
       "      <td>4.029880</td>\n",
       "      <td>4.029880</td>\n",
       "      <td>4.029880</td>\n",
       "      <td>4.02988</td>\n",
       "      <td>2.86335</td>\n",
       "      <td>2.863350</td>\n",
       "      <td>2.863350</td>\n",
       "      <td>2.863350</td>\n",
       "      <td>2.863350</td>\n",
       "      <td>2.863350</td>\n",
       "      <td>2.863350</td>\n",
       "      <td>2.863350</td>\n",
       "      <td>2.863350</td>\n",
       "      <td>2.863350</td>\n",
       "      <td>2.86335</td>\n",
       "    </tr>\n",
       "    <tr>\n",
       "      <th>2</th>\n",
       "      <td>357</td>\n",
       "      <td>0.5</td>\n",
       "      <td>0.93333</td>\n",
       "      <td>0.933330</td>\n",
       "      <td>0.933330</td>\n",
       "      <td>0.933330</td>\n",
       "      <td>0.933330</td>\n",
       "      <td>0.93333</td>\n",
       "      <td>0.933330</td>\n",
       "      <td>0.933330</td>\n",
       "      <td>0.933330</td>\n",
       "      <td>0.933330</td>\n",
       "      <td>0.93333</td>\n",
       "      <td>1.0</td>\n",
       "      <td>3.74497</td>\n",
       "      <td>3.744970</td>\n",
       "      <td>3.744970</td>\n",
       "      <td>3.744970</td>\n",
       "      <td>3.744970</td>\n",
       "      <td>3.744970</td>\n",
       "      <td>3.744970</td>\n",
       "      <td>3.744970</td>\n",
       "      <td>3.744970</td>\n",
       "      <td>3.744970</td>\n",
       "      <td>3.74497</td>\n",
       "      <td>3.31813</td>\n",
       "      <td>3.318130</td>\n",
       "      <td>3.318130</td>\n",
       "      <td>3.318130</td>\n",
       "      <td>3.318130</td>\n",
       "      <td>3.318130</td>\n",
       "      <td>3.318130</td>\n",
       "      <td>3.318130</td>\n",
       "      <td>3.318130</td>\n",
       "      <td>3.318130</td>\n",
       "      <td>3.31813</td>\n",
       "    </tr>\n",
       "    <tr>\n",
       "      <th>3</th>\n",
       "      <td>434</td>\n",
       "      <td>1.0</td>\n",
       "      <td>0.62100</td>\n",
       "      <td>0.630952</td>\n",
       "      <td>0.674636</td>\n",
       "      <td>0.705316</td>\n",
       "      <td>0.710640</td>\n",
       "      <td>0.71264</td>\n",
       "      <td>0.728176</td>\n",
       "      <td>0.740280</td>\n",
       "      <td>0.781128</td>\n",
       "      <td>0.839034</td>\n",
       "      <td>0.85845</td>\n",
       "      <td>9.0</td>\n",
       "      <td>2.25762</td>\n",
       "      <td>2.321644</td>\n",
       "      <td>2.599124</td>\n",
       "      <td>2.997680</td>\n",
       "      <td>3.379630</td>\n",
       "      <td>3.561990</td>\n",
       "      <td>4.118718</td>\n",
       "      <td>4.589598</td>\n",
       "      <td>4.958998</td>\n",
       "      <td>5.316736</td>\n",
       "      <td>5.85808</td>\n",
       "      <td>1.47245</td>\n",
       "      <td>1.520642</td>\n",
       "      <td>1.755548</td>\n",
       "      <td>2.082084</td>\n",
       "      <td>2.375564</td>\n",
       "      <td>2.481700</td>\n",
       "      <td>2.830788</td>\n",
       "      <td>3.134312</td>\n",
       "      <td>3.564152</td>\n",
       "      <td>4.124550</td>\n",
       "      <td>4.65211</td>\n",
       "    </tr>\n",
       "    <tr>\n",
       "      <th>4</th>\n",
       "      <td>453</td>\n",
       "      <td>0.0</td>\n",
       "      <td>0.70210</td>\n",
       "      <td>0.702100</td>\n",
       "      <td>0.702100</td>\n",
       "      <td>0.702100</td>\n",
       "      <td>0.702100</td>\n",
       "      <td>0.70210</td>\n",
       "      <td>0.702100</td>\n",
       "      <td>0.702100</td>\n",
       "      <td>0.702100</td>\n",
       "      <td>0.702100</td>\n",
       "      <td>0.70210</td>\n",
       "      <td>1.0</td>\n",
       "      <td>4.81073</td>\n",
       "      <td>4.810730</td>\n",
       "      <td>4.810730</td>\n",
       "      <td>4.810730</td>\n",
       "      <td>4.810730</td>\n",
       "      <td>4.810730</td>\n",
       "      <td>4.810730</td>\n",
       "      <td>4.810730</td>\n",
       "      <td>4.810730</td>\n",
       "      <td>4.810730</td>\n",
       "      <td>4.81073</td>\n",
       "      <td>3.27848</td>\n",
       "      <td>3.278480</td>\n",
       "      <td>3.278480</td>\n",
       "      <td>3.278480</td>\n",
       "      <td>3.278480</td>\n",
       "      <td>3.278480</td>\n",
       "      <td>3.278480</td>\n",
       "      <td>3.278480</td>\n",
       "      <td>3.278480</td>\n",
       "      <td>3.278480</td>\n",
       "      <td>3.27848</td>\n",
       "    </tr>\n",
       "  </tbody>\n",
       "</table>\n",
       "</div>"
      ],
      "text/plain": [
       "   customer_id  sex  cust_mean_perc_0  cust_mean_perc_10  cust_mean_perc_20  \\\n",
       "0          107  0.5           0.61893           0.632878           0.646826   \n",
       "1          351  0.5           0.75556           0.755560           0.755560   \n",
       "2          357  0.5           0.93333           0.933330           0.933330   \n",
       "3          434  1.0           0.62100           0.630952           0.674636   \n",
       "4          453  0.0           0.70210           0.702100           0.702100   \n",
       "\n",
       "   cust_mean_perc_30  cust_mean_perc_40  cust_mean_perc_50  cust_mean_perc_60  \\\n",
       "0           0.660774           0.674722            0.68867           0.702618   \n",
       "1           0.755560           0.755560            0.75556           0.755560   \n",
       "2           0.933330           0.933330            0.93333           0.933330   \n",
       "3           0.705316           0.710640            0.71264           0.728176   \n",
       "4           0.702100           0.702100            0.70210           0.702100   \n",
       "\n",
       "   cust_mean_perc_70  cust_mean_perc_80  cust_mean_perc_90  \\\n",
       "0           0.716566           0.730514           0.744462   \n",
       "1           0.755560           0.755560           0.755560   \n",
       "2           0.933330           0.933330           0.933330   \n",
       "3           0.740280           0.781128           0.839034   \n",
       "4           0.702100           0.702100           0.702100   \n",
       "\n",
       "   cust_mean_perc_100  cnt  Item_sin_score_perc_0  Item_sin_score_perc_10  \\\n",
       "0             0.75841  2.0                2.44168                2.740737   \n",
       "1             0.75556  1.0                4.02988                4.029880   \n",
       "2             0.93333  1.0                3.74497                3.744970   \n",
       "3             0.85845  9.0                2.25762                2.321644   \n",
       "4             0.70210  1.0                4.81073                4.810730   \n",
       "\n",
       "   Item_sin_score_perc_20  Item_sin_score_perc_30  Item_sin_score_perc_40  \\\n",
       "0                3.039794                3.338851                3.637908   \n",
       "1                4.029880                4.029880                4.029880   \n",
       "2                3.744970                3.744970                3.744970   \n",
       "3                2.599124                2.997680                3.379630   \n",
       "4                4.810730                4.810730                4.810730   \n",
       "\n",
       "   Item_sin_score_perc_50  Item_sin_score_perc_60  Item_sin_score_perc_70  \\\n",
       "0                3.936965                4.236022                4.535079   \n",
       "1                4.029880                4.029880                4.029880   \n",
       "2                3.744970                3.744970                3.744970   \n",
       "3                3.561990                4.118718                4.589598   \n",
       "4                4.810730                4.810730                4.810730   \n",
       "\n",
       "   Item_sin_score_perc_80  Item_sin_score_perc_90  Item_sin_score_perc_100  \\\n",
       "0                4.834136                5.133193                  5.43225   \n",
       "1                4.029880                4.029880                  4.02988   \n",
       "2                3.744970                3.744970                  3.74497   \n",
       "3                4.958998                5.316736                  5.85808   \n",
       "4                4.810730                4.810730                  4.81073   \n",
       "\n",
       "   Item_lin_score_perc_0  Item_lin_score_perc_10  Item_lin_score_perc_20  \\\n",
       "0                1.59119                1.819023                2.046856   \n",
       "1                2.86335                2.863350                2.863350   \n",
       "2                3.31813                3.318130                3.318130   \n",
       "3                1.47245                1.520642                1.755548   \n",
       "4                3.27848                3.278480                3.278480   \n",
       "\n",
       "   Item_lin_score_perc_30  Item_lin_score_perc_40  Item_lin_score_perc_50  \\\n",
       "0                2.274689                2.502522                2.730355   \n",
       "1                2.863350                2.863350                2.863350   \n",
       "2                3.318130                3.318130                3.318130   \n",
       "3                2.082084                2.375564                2.481700   \n",
       "4                3.278480                3.278480                3.278480   \n",
       "\n",
       "   Item_lin_score_perc_60  Item_lin_score_perc_70  Item_lin_score_perc_80  \\\n",
       "0                2.958188                3.186021                3.413854   \n",
       "1                2.863350                2.863350                2.863350   \n",
       "2                3.318130                3.318130                3.318130   \n",
       "3                2.830788                3.134312                3.564152   \n",
       "4                3.278480                3.278480                3.278480   \n",
       "\n",
       "   Item_lin_score_perc_90  Item_lin_score_perc_100  \n",
       "0                3.641687                  3.86952  \n",
       "1                2.863350                  2.86335  \n",
       "2                3.318130                  3.31813  \n",
       "3                4.124550                  4.65211  \n",
       "4                3.278480                  3.27848  "
      ]
     },
     "execution_count": 41,
     "metadata": {},
     "output_type": "execute_result"
    }
   ],
   "source": [
    "# [purchases_train['sex'] != 0.5]\n",
    "# take a patience - it takes about 7 minutes for me\n",
    "tmp = purchases_train.drop_duplicates(['customer_id', 'product_id']).groupby('customer_id').agg({'sex': [('sex', lambda x: round(x.iloc[0], 2))],\n",
    "                                            'cust_mean': [('cust_mean_perc_0', lambda x: np.percentile(x, 0)), \n",
    "                                                         ('cust_mean_perc_10', lambda x: np.percentile(x, 10)), \n",
    "                                                         ('cust_mean_perc_20', lambda x: np.percentile(x, 20)), \n",
    "                                                         ('cust_mean_perc_30', lambda x: np.percentile(x, 30)), \n",
    "                                                         ('cust_mean_perc_40', lambda x: np.percentile(x, 40)), \n",
    "                                                         ('cust_mean_perc_50', lambda x: np.percentile(x, 50)), \n",
    "                                                         ('cust_mean_perc_60', lambda x: np.percentile(x, 60)), \n",
    "                                                         ('cust_mean_perc_70', lambda x: np.percentile(x, 70)), \n",
    "                                                         ('cust_mean_perc_80', lambda x: np.percentile(x, 80)), \n",
    "                                                         ('cust_mean_perc_90', lambda x: np.percentile(x, 90)), \n",
    "                                                         ('cust_mean_perc_100', lambda x: np.percentile(x, 100)), \n",
    "                                                         ('cnt', len)],\n",
    "                                            'Item_sin_score': [('Item_sin_score_perc_0', lambda x: np.percentile(x, 0)), \n",
    "                                                         ('Item_sin_score_perc_10', lambda x: np.percentile(x, 10)), \n",
    "                                                         ('Item_sin_score_perc_20', lambda x: np.percentile(x, 20)), \n",
    "                                                         ('Item_sin_score_perc_30', lambda x: np.percentile(x, 30)), \n",
    "                                                         ('Item_sin_score_perc_40', lambda x: np.percentile(x, 40)), \n",
    "                                                         ('Item_sin_score_perc_50', lambda x: np.percentile(x, 50)), \n",
    "                                                         ('Item_sin_score_perc_60', lambda x: np.percentile(x, 60)), \n",
    "                                                         ('Item_sin_score_perc_70', lambda x: np.percentile(x, 70)), \n",
    "                                                         ('Item_sin_score_perc_80', lambda x: np.percentile(x, 80)), \n",
    "                                                         ('Item_sin_score_perc_90', lambda x: np.percentile(x, 90)), \n",
    "                                                         ('Item_sin_score_perc_100', lambda x: np.percentile(x, 100)), \n",
    "                                                         ],\n",
    "                                            'Item_lin_score': [('Item_lin_score_perc_0', lambda x: np.percentile(x, 0)), \n",
    "                                                         ('Item_lin_score_perc_10', lambda x: np.percentile(x, 10)), \n",
    "                                                         ('Item_lin_score_perc_20', lambda x: np.percentile(x, 20)), \n",
    "                                                         ('Item_lin_score_perc_30', lambda x: np.percentile(x, 30)), \n",
    "                                                         ('Item_lin_score_perc_40', lambda x: np.percentile(x, 40)), \n",
    "                                                         ('Item_lin_score_perc_50', lambda x: np.percentile(x, 50)), \n",
    "                                                         ('Item_lin_score_perc_60', lambda x: np.percentile(x, 60)), \n",
    "                                                         ('Item_lin_score_perc_70', lambda x: np.percentile(x, 70)), \n",
    "                                                         ('Item_lin_score_perc_80', lambda x: np.percentile(x, 80)), \n",
    "                                                         ('Item_lin_score_perc_90', lambda x: np.percentile(x, 90)), \n",
    "                                                         ('Item_lin_score_perc_100', lambda x: np.percentile(x, 100)), \n",
    "                                                         ],\n",
    "                                           }).reset_index()\n",
    "tmp.columns = tmp.columns.droplevel()\n",
    "tmp.rename(columns= {'': 'customer_id'}, inplace=True)\n",
    "tmp.head()"
   ]
  },
  {
   "cell_type": "code",
   "execution_count": 42,
   "metadata": {},
   "outputs": [],
   "source": [
    "def plot_fe(series, xlabel='', ylabel='', title='', figsize=(13, 10), font_size=14, sort=True):\n",
    "    if sort:\n",
    "        series = series.sort_values(ascending=False)\n",
    "        \n",
    "    plt.figure(figsize=figsize);\n",
    "    sns.set(font_scale=font_size/10.0)\n",
    "    ax = sns.barplot(x=series.values.reshape(1, -1)[0], y=series.index);\n",
    "    if xlabel:\n",
    "        ax.set_xlabel(xlabel, fontsize=font_size)\n",
    "    if ylabel:\n",
    "        ax.set_ylabel(ylabel, fontsize=font_size)\n",
    "    if title:\n",
    "        ax.set_title(title, fontsize=font_size)\n",
    "    plt.show()\n",
    "    \n",
    "def preproc_data(ldf, pred_clmns, y_col, test_size=0.2, random_state=523, cond=None):\n",
    "    if cond is None:\n",
    "        x_train, x_test, y_train, y_test = train_test_split(ldf[pred_clmns], ldf[y_col], test_size=test_size, random_state=random_state)\n",
    "    else:\n",
    "        x_train, x_test, y_train, y_test = train_test_split(ldf.loc[cond, pred_clmns], ldf.loc[cond, y_col], test_size=test_size, random_state=random_state)\n",
    "        \n",
    "        \n",
    "    print ('TRAIN SHAPE:', x_train.shape, 'TEST SHAPE:', x_test.shape)\n",
    "    return x_train, x_test, y_train, y_test\n",
    "\n",
    "def fit_model(params, x_train, x_test, y_train, y_test, weight_train=None, weight_test=None, modelname='lgb'):\n",
    "    if modelname=='lgb':\n",
    "        # define lgb train and validation Datasets\n",
    "        d_train = lgb.Dataset(x_train, y_train, weight=weight_train)\n",
    "        d_valid = lgb.Dataset(x_test, y_test, weight=weight_test)\n",
    "\n",
    "        # train model\n",
    "        print ('\\nSTART FITTING:')\n",
    "        model = lgb.train(params=params, \n",
    "                        train_set=d_train, \n",
    "                        num_boost_round=5000, \n",
    "                        valid_sets=[d_valid],\n",
    "                        verbose_eval=100, \n",
    "                        early_stopping_rounds=25)\n",
    "        print ('FITTING HAS BEEN ENDED\\n')\n",
    "        \n",
    "        print ('VALIDATION:')\n",
    "        if params['objective']=='binary':\n",
    "            train_pred = model.predict(x_train)\n",
    "            test_pred = model.predict(x_test)\n",
    "            \n",
    "            train_prc_auc_score = average_precision_score(y_train, train_pred, sample_weight=weight_train)\n",
    "            test_prc_auc_score = average_precision_score(y_test, test_pred, sample_weight=weight_test)\n",
    "            \n",
    "#             train_precision, train_recall, thres = precision_recall_curve(y_train, train_pred, sample_weight=weight_train)\n",
    "#             train_prc_auc = auc(train_recall, train_precision)\n",
    "            \n",
    "#             test_precision, test_recall, thres = precision_recall_curve(y_test, test_pred, sample_weight=weight_test)\n",
    "#             test_prc_auc = auc(test_recall, test_precision)\n",
    "\n",
    "#             print ('TRAIN ROC_AUC:', round(roc_auc_score(y_train, train_pred, sample_weight=weight_train), 6), 'PRC_AUC:', round(train_prc_auc, 6), 'PRC_AUC_SCORE:', round(train_prc_auc_score, 6), 'ACCURACY:', round(accuracy_score(y_train, np.round(train_pred), sample_weight=weight_train), 6))\n",
    "#             print ('TEST ROC_AUC:', round(roc_auc_score(y_test, test_pred, sample_weight=weight_test), 6), 'PRC_AUC:', round(test_prc_auc, 6), 'PRC_AUC_SCORE:', round(test_prc_auc_score, 6), 'ACCURACY:', round(accuracy_score(y_test, np.round(test_pred), sample_weight=weight_test), 6))\n",
    "            print ('TRAIN ROC_AUC:', round(roc_auc_score(y_train, train_pred, sample_weight=weight_train), 6), 'PRC_AUC_SCORE:', round(train_prc_auc_score, 6), 'ACCURACY:', round(accuracy_score(y_train, np.round(train_pred), sample_weight=weight_train), 6))\n",
    "            print ('TEST ROC_AUC:', round(roc_auc_score(y_test, test_pred, sample_weight=weight_test), 6), 'PRC_AUC_SCORE:', round(test_prc_auc_score, 6), 'ACCURACY:', round(accuracy_score(y_test, np.round(test_pred), sample_weight=weight_test), 6))\n",
    "            \n",
    "            \n",
    "        return model\n",
    "    \n",
    "    elif modelname=='logreg':\n",
    "        model = LogisticRegression(**params)\n",
    "        print ('\\nSTART FITTING:')\n",
    "        model.fit(x_train, y_train, sample_weight=weight_train)\n",
    "        print ('FITTING HAS BEEN ENDED\\n')\n",
    "        \n",
    "        print ('VALIDATION:')\n",
    "        train_pred = model.predict_proba(x_train).T[1]\n",
    "        test_pred = model.predict_proba(x_test).T[1]\n",
    "\n",
    "        train_prc_auc_score = average_precision_score(y_train, train_pred, sample_weight=weight_train)\n",
    "        test_prc_auc_score = average_precision_score(y_test, test_pred, sample_weight=weight_test)\n",
    "\n",
    "#         train_precision, train_recall, thres = precision_recall_curve(y_train, train_pred, sample_weight=weight_train)\n",
    "#         train_prc_auc = auc(train_recall, train_precision)\n",
    "\n",
    "#         test_precision, test_recall, thres = precision_recall_curve(y_test, test_pred, sample_weight=weight_test)\n",
    "#         test_prc_auc = auc(test_recall, test_precision)\n",
    "\n",
    "#         print ('TRAIN ROC_AUC:', round(roc_auc_score(y_train, train_pred, sample_weight=weight_train), 6), 'PRC_AUC:', round(train_prc_auc, 6), 'PRC_AUC_SCORE:', round(train_prc_auc_score, 6), 'ACCURACY:', round(accuracy_score(y_train, np.round(train_pred), sample_weight=weight_train), 6))\n",
    "#         print ('TEST ROC_AUC:', round(roc_auc_score(y_test, test_pred, sample_weight=weight_test), 6), 'PRC_AUC:', round(test_prc_auc, 6), 'PRC_AUC_SCORE:', round(test_prc_auc_score, 6), 'ACCURACY:', round(accuracy_score(y_test, np.round(test_pred), sample_weight=weight_test), 6))\n",
    "        print ('TRAIN ROC_AUC:', round(roc_auc_score(y_train, train_pred, sample_weight=weight_train), 6), 'PRC_AUC_SCORE:', round(train_prc_auc_score, 6), 'ACCURACY:', round(accuracy_score(y_train, np.round(train_pred), sample_weight=weight_train), 6))\n",
    "        print ('TEST ROC_AUC:', round(roc_auc_score(y_test, test_pred, sample_weight=weight_test), 6), 'PRC_AUC_SCORE:', round(test_prc_auc_score, 6), 'ACCURACY:', round(accuracy_score(y_test, np.round(test_pred), sample_weight=weight_test), 6))\n",
    "        \n",
    "        return model\n",
    "    \n",
    "        "
   ]
  },
  {
   "cell_type": "code",
   "execution_count": 43,
   "metadata": {},
   "outputs": [
    {
     "data": {
      "text/plain": [
       "0.5    75548\n",
       "1.0    23536\n",
       "0.0     8407\n",
       "Name: sex, dtype: int64"
      ]
     },
     "execution_count": 43,
     "metadata": {},
     "output_type": "execute_result"
    }
   ],
   "source": [
    "tmp.sex.value_counts()#normalize=True"
   ]
  },
  {
   "cell_type": "markdown",
   "metadata": {},
   "source": [
    "### Так как отношение количества женщин к количеству мужчин, чей пол нам известен составляет приблизительно 3:1, то исходя из этого мы имеем с несбалансированной выборкой. Я пробывал 2 подхода: 1 - взвешивание в соответствии с пропорциями каждого пола (семплы мужщин важнее семплов женщин); 2 - undersampling - случайным образом из выборки кастомеров, пол женщин которых нам известен, взять N семплов, где N - количество кастомеров мужского пола. Оба подхода работают приблизительно одинаково."
   ]
  },
  {
   "cell_type": "code",
   "execution_count": 44,
   "metadata": {},
   "outputs": [],
   "source": [
    "tmp['sex_weight'] = 1\n",
    "tmp.loc[tmp.sex == 1, 'sex_weight'] = 1 / 0.736812#**1.6\n",
    "tmp.loc[tmp.sex == 0, 'sex_weight'] = 1 / 0.263188#**1.6"
   ]
  },
  {
   "cell_type": "code",
   "execution_count": 45,
   "metadata": {},
   "outputs": [
    {
     "data": {
      "text/plain": [
       "8407"
      ]
     },
     "execution_count": 45,
     "metadata": {},
     "output_type": "execute_result"
    }
   ],
   "source": [
    "(tmp.sex == 0).sum()"
   ]
  },
  {
   "cell_type": "code",
   "execution_count": 46,
   "metadata": {},
   "outputs": [
    {
     "data": {
      "text/plain": [
       "array([35460, 15249, 81264, ..., 14802, 38192, 79512], dtype=int64)"
      ]
     },
     "execution_count": 46,
     "metadata": {},
     "output_type": "execute_result"
    }
   ],
   "source": [
    "female_indexes = tmp.loc[tmp.sex == 1].index.values\n",
    "np.random.shuffle(female_indexes)\n",
    "female_indexes = female_indexes[:(tmp.sex == 0).sum()] # 8407 - количество известных нам мужчин\n",
    "female_indexes"
   ]
  },
  {
   "cell_type": "markdown",
   "metadata": {},
   "source": [
    "### В приведенном ниже примере мы используем 1 - ый подход"
   ]
  },
  {
   "cell_type": "code",
   "execution_count": 47,
   "metadata": {
    "scrolled": true
   },
   "outputs": [
    {
     "name": "stdout",
     "output_type": "stream",
     "text": [
      "TRAIN SHAPE: (25554, 33) TEST SHAPE: (6389, 33)\n"
     ]
    }
   ],
   "source": [
    "# pred_columns = [i for i in tmp.columns.values[2:] if 'perc' in i or i == 'cnt' ]\n",
    "pred_columns = [i for i in tmp.columns.values[2:] if 'perc' in i]# or i == 'cnt' ]\n",
    "y_col = 'sex'\n",
    "cond = tmp.sex != 0.5\n",
    "\n",
    "####\n",
    "# 1 - подход\n",
    "####\n",
    "# x_train, x_test, y_train, y_test = preproc_data(tmp.loc[tmp.loc[tmp.sex == 0].index.values.tolist() + female_indexes.tolist()], pred_columns, y_col, cond=cond)\n",
    "x_train, x_test, y_train, y_test = preproc_data(tmp, pred_columns, y_col, cond=cond)\n",
    "# weight_train = np.log(tmp[cond].loc[x_train[cond].index, 'cnt'])\n",
    "# weight_test = np.log(tmp[cond].loc[x_test[cond].index, 'cnt'])\n",
    "# weight_train = tmp.loc[x_train[cond].index, 'cnt'].values\n",
    "# weight_test = tmp.loc[x_test[cond].index, 'cnt'].values\n",
    "\n",
    "weight_train = np.log(tmp.loc[x_train.loc[cond].index, 'cnt'].values) * tmp.loc[x_train.loc[cond].index, 'sex_weight'].values\n",
    "weight_test = np.log(tmp.loc[x_test.loc[cond].index, 'cnt'].values) * tmp.loc[x_test.loc[cond].index, 'sex_weight'].values\n",
    "# weight_train = tmp.loc[x_train.loc[cond].index, 'cnt'].values * tmp.loc[x_train.loc[cond].index, 'sex_weight'].values\n",
    "# weight_test = tmp.loc[x_test.loc[cond].index, 'cnt'].values * tmp.loc[x_test.loc[cond].index, 'sex_weight'].values\n",
    "# weight_train = tmp.loc[x_train.loc[cond].index, 'sex_weight'].values\n",
    "# weight_test = tmp.loc[x_test.loc[cond].index, 'sex_weight'].values\n",
    "\n",
    "####\n",
    "# 2 - подход\n",
    "####\n",
    "# x_train, x_test, y_train, y_test = preproc_data(tmp.loc[tmp.loc[tmp.sex == 0].index.values.tolist() + female_indexes.tolist()], pred_columns, y_col, cond=cond)\n",
    "# # x_train, x_test, y_train, y_test = preproc_data(tmp, pred_columns, y_col, cond=cond)\n",
    "# # weight_train = np.log(tmp[cond].loc[x_train[cond].index, 'cnt'])\n",
    "# # weight_test = np.log(tmp[cond].loc[x_test[cond].index, 'cnt'])\n",
    "# # weight_train = tmp.loc[x_train[cond].index, 'cnt'].values\n",
    "# # weight_test = tmp.loc[x_test[cond].index, 'cnt'].values\n",
    "\n",
    "# weight_train = np.log(tmp.loc[x_train.loc[cond].index, 'cnt'].values)# * tmp.loc[x_train.loc[cond].index, 'sex_weight'].values\n",
    "# weight_test = np.log(tmp.loc[x_test.loc[cond].index, 'cnt'].values)# * tmp.loc[x_test.loc[cond].index, 'sex_weight'].values\n",
    "# # weight_train = tmp.loc[x_train.loc[cond].index, 'cnt'].values * tmp.loc[x_train.loc[cond].index, 'sex_weight'].values\n",
    "# # weight_test = tmp.loc[x_test.loc[cond].index, 'cnt'].values * tmp.loc[x_test.loc[cond].index, 'sex_weight'].values\n",
    "# # weight_train = tmp.loc[x_train.loc[cond].index, 'sex_weight'].values\n",
    "# # weight_test = tmp.loc[x_test.loc[cond].index, 'sex_weight'].values\n"
   ]
  },
  {
   "cell_type": "markdown",
   "metadata": {},
   "source": [
    "#### LightGBM"
   ]
  },
  {
   "cell_type": "code",
   "execution_count": 65,
   "metadata": {
    "scrolled": false
   },
   "outputs": [
    {
     "name": "stdout",
     "output_type": "stream",
     "text": [
      "\n",
      "START FITTING:\n",
      "Training until validation scores don't improve for 25 rounds.\n",
      "[100]\tvalid_0's auc: 0.754423\n",
      "Early stopping, best iteration is:\n",
      "[90]\tvalid_0's auc: 0.754549\n",
      "FITTING HAS BEEN ENDED\n",
      "\n",
      "VALIDATION:\n",
      "TRAIN ROC_AUC: 0.778271 PRC_AUC_SCORE: 0.774524 ACCURACY: 0.714497\n",
      "TEST ROC_AUC: 0.754549 PRC_AUC_SCORE: 0.748944 ACCURACY: 0.691301\n"
     ]
    },
    {
     "data": {
      "image/png": "[encoded data removed]",
      "text/plain": [
       "<Figure size 936x720 with 1 Axes>"
      ]
     },
     "metadata": {},
     "output_type": "display_data"
    }
   ],
   "source": [
    "params = {\n",
    "        'boosting_type': 'gbdt',\n",
    "        'objective': 'binary',\n",
    "        'metric': {'auc'},\n",
    "        'num_leaves': 10,\n",
    "        'max_bin': 20, \n",
    "        'max_depth': 3,\n",
    "        'lambda_l2': 5,\n",
    "        'learning_rate': 0.05,\n",
    "        'feature_fraction': 0.8,\n",
    "        'bagging_fraction': 0.8,\n",
    "        'bagging_freq': 1,\n",
    "        'verbose': 0,\n",
    "        'n_jobs': 2,\n",
    "    }\n",
    "\n",
    "\n",
    "model = fit_model(params, x_train, x_test, y_train, y_test, weight_train=weight_train, weight_test=weight_test)\n",
    "# model = fit_model(params, x_train, x_test, y_train, y_test)#, weight_train=weight_train, weight_test=weight_test)\n",
    "\n",
    "fe = pd.Series(model.feature_importance(), index=pred_columns)\n",
    "# print ('\\nFEATURE_IMPORTANCE: \\n', fe)\n",
    "plot_fe(fe)"
   ]
  },
  {
   "cell_type": "code",
   "execution_count": 66,
   "metadata": {},
   "outputs": [
    {
     "name": "stdout",
     "output_type": "stream",
     "text": [
      "TRAIN ROC_AUC: 0.754437 PRC_AUC: 0.884121 PRC_AUC_SCORE: 0.890784 ACCURACY: 0.718361\n",
      "TEST ROC_AUC: 0.739083 PRC_AUC: 0.873376 PRC_AUC_SCORE: 0.847794 ACCURACY: 0.710596\n"
     ]
    }
   ],
   "source": [
    "train_pred = model.predict(x_train)\n",
    "test_pred = model.predict(x_test)\n",
    "\n",
    "train_precision, train_recall, train_thres = precision_recall_curve(y_train, train_pred)#, sample_weight=weight_train)\n",
    "train_prc_auc = auc(train_recall, train_precision)\n",
    "\n",
    "test_precision, test_recall, test_thres = precision_recall_curve(y_test, test_pred)#, sample_weight=weight_test)\n",
    "test_prc_auc = auc(test_recall, test_precision)\n",
    "\n",
    "print ('TRAIN ROC_AUC:', round(roc_auc_score(y_train, train_pred), 6), 'PRC_AUC:', round(train_prc_auc, 6), 'PRC_AUC_SCORE:', round(train_prc_auc_score, 6), 'ACCURACY:', round(accuracy_score(y_train, np.round(train_pred)), 6))\n",
    "print ('TEST ROC_AUC:', round(roc_auc_score(y_test, test_pred), 6), 'PRC_AUC:', round(test_prc_auc, 6), 'PRC_AUC_SCORE:', round(test_prc_auc_score, 6), 'ACCURACY:', round(accuracy_score(y_test, np.round(test_pred)), 6))\n",
    "\n"
   ]
  },
  {
   "cell_type": "code",
   "execution_count": 67,
   "metadata": {},
   "outputs": [
    {
     "name": "stdout",
     "output_type": "stream",
     "text": [
      "TRAIN ROC_AUC: 0.778271 PRC_AUC: 0.774541 PRC_AUC_SCORE: 0.890784 ACCURACY: 0.714497\n",
      "TEST ROC_AUC: 0.754549 PRC_AUC: 0.74876 PRC_AUC_SCORE: 0.847794 ACCURACY: 0.691301\n"
     ]
    }
   ],
   "source": [
    "train_pred = model.predict(x_train)\n",
    "test_pred = model.predict(x_test)\n",
    "\n",
    "train_precision, train_recall, train_thres = precision_recall_curve(y_train, train_pred, sample_weight=weight_train)\n",
    "train_prc_auc = auc(train_recall, train_precision)\n",
    "\n",
    "test_precision, test_recall, test_thres = precision_recall_curve(y_test, test_pred, sample_weight=weight_test)\n",
    "test_prc_auc = auc(test_recall, test_precision)\n",
    "\n",
    "print ('TRAIN ROC_AUC:', round(roc_auc_score(y_train, train_pred, sample_weight=weight_train), 6), 'PRC_AUC:', round(train_prc_auc, 6), 'PRC_AUC_SCORE:', round(train_prc_auc_score, 6), 'ACCURACY:', round(accuracy_score(y_train, np.round(train_pred), sample_weight=weight_train), 6))\n",
    "print ('TEST ROC_AUC:', round(roc_auc_score(y_test, test_pred, sample_weight=weight_test), 6), 'PRC_AUC:', round(test_prc_auc, 6), 'PRC_AUC_SCORE:', round(test_prc_auc_score, 6), 'ACCURACY:', round(accuracy_score(y_test, np.round(test_pred), sample_weight=weight_test), 6))\n",
    "\n"
   ]
  },
  {
   "cell_type": "code",
   "execution_count": 50,
   "metadata": {},
   "outputs": [
    {
     "data": {
      "text/plain": [
       "1.0    0.61968\n",
       "0.0    0.38032\n",
       "Name: pred_label, dtype: float64"
      ]
     },
     "execution_count": 50,
     "metadata": {},
     "output_type": "execute_result"
    }
   ],
   "source": [
    "tmp['pred'] = np.round(model.predict(tmp.loc[:, pred_columns].values), 6)\n",
    "tmp['pred_label'] = np.round(tmp['pred'].values)\n",
    "\n",
    "tmp.loc[tmp.sex != 0.5, 'pred_label'] = tmp.loc[tmp.sex != 0.5, 'sex'].values\n",
    "tmp['pred_label'].value_counts(normalize=True)"
   ]
  },
  {
   "cell_type": "markdown",
   "metadata": {},
   "source": [
    "#### LogReg"
   ]
  },
  {
   "cell_type": "code",
   "execution_count": 68,
   "metadata": {
    "scrolled": true
   },
   "outputs": [
    {
     "name": "stdout",
     "output_type": "stream",
     "text": [
      "\n",
      "START FITTING:\n"
     ]
    },
    {
     "name": "stderr",
     "output_type": "stream",
     "text": [
      "C:\\Python36\\lib\\site-packages\\sklearn\\linear_model\\logistic.py:432: FutureWarning: Default solver will be changed to 'lbfgs' in 0.22. Specify a solver to silence this warning.\n",
      "  FutureWarning)\n"
     ]
    },
    {
     "name": "stdout",
     "output_type": "stream",
     "text": [
      "FITTING HAS BEEN ENDED\n",
      "\n",
      "VALIDATION:\n"
     ]
    },
    {
     "name": "stderr",
     "output_type": "stream",
     "text": [
      "C:\\Python36\\lib\\site-packages\\sklearn\\metrics\\ranking.py:526: RuntimeWarning: invalid value encountered in true_divide\n",
      "  precision = tps / (tps + fps)\n"
     ]
    },
    {
     "name": "stdout",
     "output_type": "stream",
     "text": [
      "TRAIN ROC_AUC: 0.762978 PRC_AUC_SCORE: 0.74453 ACCURACY: 0.706801\n",
      "TEST ROC_AUC: 0.748393 PRC_AUC_SCORE: 0.744518 ACCURACY: 0.688627\n"
     ]
    },
    {
     "data": {
      "image/png": "[encoded data removed]",
      "text/plain": [
       "<Figure size 936x720 with 1 Axes>"
      ]
     },
     "metadata": {},
     "output_type": "display_data"
    }
   ],
   "source": [
    "\n",
    "\n",
    "model = fit_model({}, x_train, x_test, y_train, y_test, weight_train=weight_train, weight_test=weight_test, modelname='logreg')\n",
    "# model = fit_model({}, x_train, x_test, y_train, y_test, modelname='logreg')\n",
    "\n",
    "fe = pd.Series(model.coef_[0], index=pred_columns)\n",
    "# print ('\\nFEATURE_IMPORTANCE: \\n', fe)\n",
    "plot_fe(fe)"
   ]
  },
  {
   "cell_type": "code",
   "execution_count": 69,
   "metadata": {},
   "outputs": [
    {
     "name": "stdout",
     "output_type": "stream",
     "text": [
      "TRAIN ROC_AUC: 0.685685 PRC_AUC: 0.889494 PRC_AUC_SCORE: 0.890784 ACCURACY: 0.701104\n",
      "TEST ROC_AUC: 0.672902 PRC_AUC: 0.884557 PRC_AUC_SCORE: 0.847794 ACCURACY: 0.697605\n"
     ]
    }
   ],
   "source": [
    "train_pred = model.predict(x_train)\n",
    "test_pred = model.predict(x_test)\n",
    "\n",
    "train_precision, train_recall, train_thres = precision_recall_curve(y_train, train_pred)#, sample_weight=weight_train)\n",
    "train_prc_auc = auc(train_recall, train_precision)\n",
    "\n",
    "test_precision, test_recall, test_thres = precision_recall_curve(y_test, test_pred)#, sample_weight=weight_test)\n",
    "test_prc_auc = auc(test_recall, test_precision)\n",
    "\n",
    "print ('TRAIN ROC_AUC:', round(roc_auc_score(y_train, train_pred), 6), 'PRC_AUC:', round(train_prc_auc, 6), 'PRC_AUC_SCORE:', round(train_prc_auc_score, 6), 'ACCURACY:', round(accuracy_score(y_train, np.round(train_pred)), 6))\n",
    "print ('TEST ROC_AUC:', round(roc_auc_score(y_test, test_pred), 6), 'PRC_AUC:', round(test_prc_auc, 6), 'PRC_AUC_SCORE:', round(test_prc_auc_score, 6), 'ACCURACY:', round(accuracy_score(y_test, np.round(test_pred)), 6))\n",
    "\n"
   ]
  },
  {
   "cell_type": "code",
   "execution_count": 70,
   "metadata": {},
   "outputs": [
    {
     "name": "stderr",
     "output_type": "stream",
     "text": [
      "C:\\Python36\\lib\\site-packages\\sklearn\\metrics\\ranking.py:526: RuntimeWarning: invalid value encountered in true_divide\n",
      "  precision = tps / (tps + fps)\n"
     ]
    },
    {
     "name": "stdout",
     "output_type": "stream",
     "text": [
      "TRAIN ROC_AUC: 0.762978 PRC_AUC: 0.744492 PRC_AUC_SCORE: 0.890784 ACCURACY: 0.706801\n",
      "TEST ROC_AUC: 0.748393 PRC_AUC: 0.744352 PRC_AUC_SCORE: 0.847794 ACCURACY: 0.688627\n"
     ]
    }
   ],
   "source": [
    "train_pred = model.predict_proba(x_train).T[1]\n",
    "test_pred = model.predict_proba(x_test).T[1]\n",
    "\n",
    "train_precision, train_recall, train_thres = precision_recall_curve(y_train, train_pred, sample_weight=weight_train)\n",
    "train_prc_auc = auc(train_recall, train_precision)\n",
    "\n",
    "test_precision, test_recall, test_thres = precision_recall_curve(y_test, test_pred, sample_weight=weight_test)\n",
    "test_prc_auc = auc(test_recall, test_precision)\n",
    "\n",
    "print ('TRAIN ROC_AUC:', round(roc_auc_score(y_train, train_pred, sample_weight=weight_train), 6), 'PRC_AUC:', round(train_prc_auc, 6), 'PRC_AUC_SCORE:', round(train_prc_auc_score, 6), 'ACCURACY:', round(accuracy_score(y_train, np.round(train_pred), sample_weight=weight_train), 6))\n",
    "print ('TEST ROC_AUC:', round(roc_auc_score(y_test, test_pred, sample_weight=weight_test), 6), 'PRC_AUC:', round(test_prc_auc, 6), 'PRC_AUC_SCORE:', round(test_prc_auc_score, 6), 'ACCURACY:', round(accuracy_score(y_test, np.round(test_pred), sample_weight=weight_test), 6))\n",
    "\n"
   ]
  },
  {
   "cell_type": "code",
   "execution_count": 54,
   "metadata": {},
   "outputs": [
    {
     "data": {
      "text/plain": [
       "1.0    0.569648\n",
       "0.0    0.430352\n",
       "Name: pred_label, dtype: float64"
      ]
     },
     "execution_count": 54,
     "metadata": {},
     "output_type": "execute_result"
    }
   ],
   "source": [
    "tmp['pred'] = np.round(model.predict_proba(tmp.loc[:, pred_columns].values).T[1], 6)\n",
    "tmp['pred_label'] = model.predict(tmp.loc[:, pred_columns].values)\n",
    "\n",
    "tmp.loc[tmp.sex != 0.5, 'pred_label'] = tmp.loc[tmp.sex != 0.5, 'sex'].values\n",
    "tmp.pred_label.value_counts(normalize=True)"
   ]
  },
  {
   "cell_type": "markdown",
   "metadata": {},
   "source": [
    "## Использование предсказанных лейблов ЛогРег модели дает немного лучший результат по сравнению с LightGBM в Части 3.3. Поэтоме в дальнейшем будут использоваться предикты ЛогРег модели."
   ]
  },
  {
   "cell_type": "markdown",
   "metadata": {},
   "source": [
    "# Часть 3.3: Расчитаем updated_cust_mean (как и cast_mean в Части 2), только теперь для всех предсказанных лейблов."
   ]
  },
  {
   "cell_type": "code",
   "execution_count": 61,
   "metadata": {},
   "outputs": [],
   "source": [
    "for cl in ['pred', 'pred_label', 'updated_cust_mean']:\n",
    "    if cl in purchases_train.columns:\n",
    "        purchases_train.drop(cl, axis=1, inplace=True)\n",
    "purchases_train = purchases_train.merge(tmp[['customer_id', 'pred', 'pred_label']], on='customer_id', how='left')\n",
    "\n",
    "tmp1 = purchases_train.drop_duplicates(['customer_id', 'product_id']).reset_index(drop=True)#.groupby('product_id').agg({''})\n",
    "tmp1['log_unique_prod_count'] = np.log(tmp1['unique_prod_count'].values + 1)\n",
    "tmp1.loc[tmp1.sex != 0.5, 'log_unique_prod_count'] = tmp1['log_unique_prod_count'].max()\n",
    "tmp1['tmp_feature'] = tmp1['log_unique_prod_count'].values * tmp1['pred_label'].values\n",
    "\n",
    "temp = tmp1.groupby('product_id')[['tmp_feature', 'log_unique_prod_count']].sum().reset_index()\n",
    "temp['updated_cust_mean'] = temp['tmp_feature'].values / temp['log_unique_prod_count'].values\n",
    "tmp1 = tmp1.merge(temp[['product_id', 'updated_cust_mean']], on='product_id', how='left')\n",
    "\n",
    "purchases_train = purchases_train.merge(tmp1[['product_id', 'customer_id', 'updated_cust_mean']], on=['product_id', 'customer_id'], how='left')\n",
    "\n",
    "# #избавляемся от байеса для updated_cust_mean\n",
    "median = purchases_train['updated_cust_mean'].median()\n",
    "cond = (purchases_train['updated_cust_mean'] <= median)\n",
    "purchases_train.loc[cond, 'updated_cust_mean'] = np.maximum(0, purchases_train.loc[cond, 'updated_cust_mean'].values/(2 *  median))\n",
    "cond = (purchases_train['updated_cust_mean'] > median)\n",
    "purchases_train.loc[cond, 'updated_cust_mean'] = np.minimum(1, 0.5 + (purchases_train.loc[cond, 'updated_cust_mean'].values -  median) /(2 * (1 -  median)))\n",
    "\n",
    "tmp1 = purchases_train.drop_duplicates(['customer_id', 'product_id']).groupby('customer_id')['updated_cust_mean'].mean().reset_index()\n",
    "if 'updated_cust_mean' in new_items_matrix.columns.values:\n",
    "    new_users_matrix.drop('updated_cust_mean', axis=1, inplace=True)\n",
    "new_users_matrix = new_users_matrix.merge(tmp1, on='customer_id', how='left')\n",
    "\n",
    "tmp1 = purchases_train.groupby('product_id')['updated_cust_mean'].first().reset_index()\n",
    "if 'updated_cust_mean' in new_items_matrix.columns.values:\n",
    "    new_items_matrix.drop('updated_cust_mean', axis=1, inplace=True)\n",
    "new_items_matrix = new_items_matrix.merge(tmp1, on='product_id', how='left')"
   ]
  },
  {
   "cell_type": "code",
   "execution_count": 62,
   "metadata": {},
   "outputs": [
    {
     "data": {
      "text/plain": [
       "(0.5, 0.5190497861968205)"
      ]
     },
     "execution_count": 62,
     "metadata": {},
     "output_type": "execute_result"
    }
   ],
   "source": [
    "purchases_train['updated_cust_mean'].median(), purchases_train['updated_cust_mean'].mean()"
   ]
  },
  {
   "cell_type": "code",
   "execution_count": 187,
   "metadata": {},
   "outputs": [],
   "source": [
    "# new_users_matrix.to_csv('new_users_matrix.csv', sep=';')\n",
    "# new_items_matrix.to_csv('new_items_matrix.csv', sep=';')"
   ]
  },
  {
   "cell_type": "code",
   "execution_count": 63,
   "metadata": {},
   "outputs": [],
   "source": [
    "class Model():\n",
    "    def __init__(self, user_matrix, item_matrix, cold_start_n, cold_start_func=1, rec_func=1):\n",
    "        self.cold_start_n = cold_start_n\n",
    "        self.user_matrix = user_matrix\n",
    "        self.item_matrix = item_matrix\n",
    "        \n",
    "        if cold_start_func == 1:\n",
    "            self.cold_start_func = self.rec_most_unique_pop\n",
    "        elif cold_start_func == 2:\n",
    "            self.cold_start_func = self.rec_most_pop\n",
    "        elif cold_start_func == 3:\n",
    "            self.cold_start_func = self.rec_most_unique_pop_last_month\n",
    "        elif cold_start_func == 4:\n",
    "            self.cold_start_func = self.rec_most_pop_last_month\n",
    "            \n",
    "        if rec_func == 1:\n",
    "            self.rec_func = self.rec_cust_mean_prod_mean\n",
    "        elif rec_func == 2:\n",
    "            self.rec_func = self.rec_Item_sin_score_prod_mean\n",
    "        elif rec_func == 3:\n",
    "            self.rec_func = self.rec_Item_lin_score_prod_mean\n",
    "        elif rec_func == 4:\n",
    "            self.rec_func = self.rec_updated_cust_mean_prod_mean\n",
    "        \n",
    "    \n",
    "    def rec_most_unique_pop_last_month(self, user): \n",
    "        # since for the cold-start problem we dont have enough information to get any prefernces about item - \n",
    "        # therefore we predict the most popular items despite sexual information\n",
    "        tmp = self.item_matrix[~self.item_matrix.product_id.isin(user.product_ids)].sort_values('unique_cust_count_all_sex_last_month', ascending=False)\n",
    "        return tmp[['product_id', 'unique_cust_count_all_sex_last_month']].values\n",
    "    \n",
    "    def rec_most_pop_last_month(self, user): \n",
    "        # since for the cold-start problem we dont have enough information to get any prefernces about item - \n",
    "        # therefore we predict the most popular items despite sexual information\n",
    "        tmp = self.item_matrix[~self.item_matrix.product_id.isin(user.product_ids)].sort_values('cust_count_last_month', ascending=False)\n",
    "        return tmp[['product_id', 'cust_count_last_month']].values\n",
    "    \n",
    "    def rec_most_unique_pop(self, user): \n",
    "        # since for the cold-start problem we dont have enough information to get any prefernces about item - \n",
    "        # therefore we predict the most popular items despite sexual information\n",
    "        tmp = self.item_matrix[~self.item_matrix.product_id.isin(user.product_ids)].sort_values('unique_cust_count_all_sex', ascending=False)\n",
    "        return tmp[['product_id', 'unique_cust_count_all_sex']].values\n",
    "    \n",
    "    def rec_most_pop(self, user): \n",
    "        # since for the cold-start problem we dont have enough information to get any prefernces about item - \n",
    "        # therefore we predict the most popular items despite sexual information\n",
    "        tmp = self.item_matrix[~self.item_matrix.product_id.isin(user.product_ids)].sort_values('cust_count', ascending=False)\n",
    "        return tmp[['product_id', 'cust_count']].values\n",
    "        \n",
    "    \n",
    "    \n",
    "    def rec_cust_mean_prod_mean(self, user):\n",
    "        tmp = self.item_matrix[~self.item_matrix.product_id.isin(user.product_ids)].reset_index(drop=True)\n",
    "        tmp['score'] = (1 - abs(tmp.cust_mean.values - user.cust_mean_prod_median)) * np.log(tmp.cust_count.values + 1)\n",
    "        return tmp.sort_values('score', ascending=False)[['product_id', 'score']].values\n",
    "    \n",
    "    def rec_Item_sin_score_prod_mean(self, user):\n",
    "        tmp = self.item_matrix[~self.item_matrix.product_id.isin(user.product_ids)].reset_index(drop=True)\n",
    "        tmp['score'] = (10 - abs(tmp.Item_sin_score.values - user.Item_sin_score_prod_median)) * np.log(tmp.cust_count.values + 1)\n",
    "        return tmp.sort_values('score', ascending=False)[['product_id', 'score']].values\n",
    "    \n",
    "    def rec_Item_lin_score_prod_mean(self, user):\n",
    "        tmp = self.item_matrix[~self.item_matrix.product_id.isin(user.product_ids)].reset_index(drop=True)\n",
    "        tmp['score'] = (10 - abs(tmp.Item_lin_score.values - user.Item_lin_score_prod_median)) * np.log(tmp.cust_count.values + 1)\n",
    "        return tmp.sort_values('score', ascending=False)[['product_id', 'score']].values\n",
    "\n",
    "    def rec_updated_cust_mean_prod_mean(self, user):\n",
    "        tmp = self.item_matrix[~self.item_matrix.product_id.isin(user.product_ids)].reset_index(drop=True)\n",
    "        tmp['score'] = (1 - abs(tmp.updated_cust_mean.values - user.updated_cust_mean)) * np.log(tmp.cust_count_last_month.values + 1)\n",
    "        return tmp.sort_values('score', ascending=False)[['product_id', 'score']].values\n",
    "        \n",
    "    def recommend(self, user_id, k=10):\n",
    "        try:\n",
    "            user = self.user_matrix.loc[self.user_matrix.customer_id == user_id].iloc[0]\n",
    "#             return self.cold_start_func(user)[:k].T\n",
    "            if user.unique_prod_count <= self.cold_start_n: #cold_start\n",
    "#                 print('cold')\n",
    "                return self.cold_start_func(user)[:k].T\n",
    "#                 return self.rec_most_unique_pop(user)[:10]\n",
    "#                 return self.rec_most_pop(user)[:10]\n",
    "            else:\n",
    "#                 print('hot')\n",
    "                return self.rec_func(user)[:k].T\n",
    "#                 return self.rec_cust_mean_prod_mean(user)[:10]\n",
    "#                 return self.rec_Item_sin_score_prod_mean(user)[:10]\n",
    "#                 return self.rec_Item_lin_score_prod_mean(user)[:10]\n",
    "        except Exception as e:\n",
    "            print(e)\n",
    "            user = self.user_matrix.loc[self.user_matrix.customer_id == user_id]\n",
    "            print(user.shape)\n",
    "            \n",
    "            return None\n",
    "#             tmp = self.item_matrix.sort_values('unique_cust_count_all_sex', ascending=False)\n",
    "#             return tmp[['product_id', 'unique_cust_count_all_sex']].values\n",
    "#             tmp = self.item_matrix.sort_values('unique_cust_count_all_sex', ascending=False)\n",
    "#             return tmp[['product_id', 'cust_count']].values\n",
    "            \n"
   ]
  },
  {
   "cell_type": "code",
   "execution_count": 64,
   "metadata": {},
   "outputs": [
    {
     "name": "stdout",
     "output_type": "stream",
     "text": [
      "cold_st: 0 mapk 0.2138644166139767\n",
      "cold_st: 1 mapk 0.20874523568292566\n",
      "cold_st: 2 mapk 0.1827920548585242\n",
      "cold_st: 3 mapk 0.1810323364134754\n"
     ]
    }
   ],
   "source": [
    "for cold_st in [0, 1, 2, 3]:#, 4, 5, 6, 7, 8, 9, 10]:\n",
    "    recommendations = []\n",
    "    mdl = Model(new_users_matrix, new_items_matrix, cold_st, 3, 4)\n",
    "    for ind, user_id in enumerate(relevant['customer_id'].values):\n",
    "#         if ind%3000 == 0:\n",
    "#             print(ind, relevant.shape[0])\n",
    "        recommendations.append([x[0] for x in mdl.recommend(user_id)])\n",
    "    print('cold_st:', cold_st, 'mapk', mapk(relevant['product_ids'], recommendations, k=10))"
   ]
  },
  {
   "cell_type": "markdown",
   "metadata": {},
   "source": [
    "## Исходя из результатов наша модель теперь рекомендует лучше чем обычная, основанная на рекомендации наиболее популярных продуктов, согласно mapK метрике (исходя из увеличения N итоговое качество модели ухудшается).\n",
    "# Baseline als модель на 64 (32) факторах дает 0.1041 (0.1538) mapK\n",
    "# Лучшая cold_start модель дает около 0.18 mapK\n",
    "# Последняя лучшая Feature-based модель дает около 0.2138 mapK"
   ]
  },
  {
   "cell_type": "code",
   "execution_count": null,
   "metadata": {},
   "outputs": [],
   "source": []
  }
 ],
 "metadata": {
  "kernelspec": {
   "display_name": "Python 3",
   "language": "python",
   "name": "python3"
  },
  "language_info": {
   "codemirror_mode": {
    "name": "ipython",
    "version": 3
   },
   "file_extension": ".py",
   "mimetype": "text/x-python",
   "name": "python",
   "nbconvert_exporter": "python",
   "pygments_lexer": "ipython3",
   "version": "3.6.6"
  }
 },
 "nbformat": 4,
 "nbformat_minor": 2
}
